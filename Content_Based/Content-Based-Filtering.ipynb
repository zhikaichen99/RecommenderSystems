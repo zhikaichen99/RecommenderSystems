{
 "cells": [
  {
   "cell_type": "markdown",
   "metadata": {},
   "source": [
    "# Content Based Filtering"
   ]
  },
  {
   "cell_type": "code",
   "execution_count": 1,
   "metadata": {},
   "outputs": [],
   "source": [
    "import pandas as pd\n",
    "import numpy as np\n",
    "import sklearn\n",
    "import math\n",
    "import scipy\n",
    "import matplotlib.pyplot as plt\n",
    "\n",
    "from ast import literal_eval\n",
    "from nltk.corpus import stopwords\n",
    "from nltk.stem.snowball import SnowballStemmer\n",
    "from sklearn.feature_extraction.text import TfidfVectorizer, CountVectorizer\n",
    "from sklearn.metrics.pairwise import cosine_similarity, linear_kernel\n",
    "from sklearn.preprocessing import MinMaxScaler"
   ]
  },
  {
   "cell_type": "markdown",
   "metadata": {},
   "source": [
    "## Introduction\n",
    "\n",
    "Recommender systems are systems that make recommendations to a user based on different factors. A recommender system is used to predict ratings a user might give to a specific item. A higher rating means the user is likely to enjoy this item therefore they will be recommended this item.\n",
    "\n",
    "Many different things can be recommended to users. For example, if you go to Amazon you can see different products that are being recommended. If you go to Netflix you see different shows and movies. For Spotify different music and podcasts are recommended. The list goes on.\n",
    "\n",
    "The benefits of recommender systems are that it improves the user experience and a lot of big companies rely on recommender systems to bring them profit.\n",
    "\n",
    "How these recommender systems work is that they recommend items based on other items you have looked at in the past or interacted with. Additionally, some recommender systems combine information from other users as well to make recommendations.\n",
    "\n",
    "There are different types of recommender systems:\n",
    "* Simple Recommenders (Based on Popularity or Rating)\n",
    "* Content-Based Filtering\n",
    "* Collaborative Filtering\n",
    "* Hybrid Approaches\n",
    "* etc\n",
    "\n",
    "In this notebook, we will be looking into Content-Based Filtering for recommendations"
   ]
  },
  {
   "cell_type": "markdown",
   "metadata": {},
   "source": [
    "## TMDB Movie Data"
   ]
  },
  {
   "cell_type": "code",
   "execution_count": 2,
   "metadata": {},
   "outputs": [],
   "source": [
    "credits = pd.read_csv('datasets/tmdb_5000_movie_dataset/tmdb_5000_credits.csv')\n",
    "movies = pd.read_csv('datasets/tmdb_5000_movie_dataset/tmdb_5000_movies.csv')"
   ]
  },
  {
   "cell_type": "code",
   "execution_count": 3,
   "metadata": {},
   "outputs": [
    {
     "data": {
      "text/html": [
       "<div>\n",
       "<style scoped>\n",
       "    .dataframe tbody tr th:only-of-type {\n",
       "        vertical-align: middle;\n",
       "    }\n",
       "\n",
       "    .dataframe tbody tr th {\n",
       "        vertical-align: top;\n",
       "    }\n",
       "\n",
       "    .dataframe thead th {\n",
       "        text-align: right;\n",
       "    }\n",
       "</style>\n",
       "<table border=\"1\" class=\"dataframe\">\n",
       "  <thead>\n",
       "    <tr style=\"text-align: right;\">\n",
       "      <th></th>\n",
       "      <th>movie_id</th>\n",
       "      <th>title</th>\n",
       "      <th>cast</th>\n",
       "      <th>crew</th>\n",
       "    </tr>\n",
       "  </thead>\n",
       "  <tbody>\n",
       "    <tr>\n",
       "      <th>4725</th>\n",
       "      <td>34101</td>\n",
       "      <td>Hollywood Shuffle</td>\n",
       "      <td>[{\"cast_id\": 1, \"character\": \"Bobby Taylor\", \"...</td>\n",
       "      <td>[{\"credit_id\": \"553fd444c3a3683c69000077\", \"de...</td>\n",
       "    </tr>\n",
       "  </tbody>\n",
       "</table>\n",
       "</div>"
      ],
      "text/plain": [
       "      movie_id              title  \\\n",
       "4725     34101  Hollywood Shuffle   \n",
       "\n",
       "                                                   cast  \\\n",
       "4725  [{\"cast_id\": 1, \"character\": \"Bobby Taylor\", \"...   \n",
       "\n",
       "                                                   crew  \n",
       "4725  [{\"credit_id\": \"553fd444c3a3683c69000077\", \"de...  "
      ]
     },
     "execution_count": 3,
     "metadata": {},
     "output_type": "execute_result"
    }
   ],
   "source": [
    "credits.sample(1)"
   ]
  },
  {
   "cell_type": "code",
   "execution_count": 4,
   "metadata": {},
   "outputs": [
    {
     "data": {
      "text/html": [
       "<div>\n",
       "<style scoped>\n",
       "    .dataframe tbody tr th:only-of-type {\n",
       "        vertical-align: middle;\n",
       "    }\n",
       "\n",
       "    .dataframe tbody tr th {\n",
       "        vertical-align: top;\n",
       "    }\n",
       "\n",
       "    .dataframe thead th {\n",
       "        text-align: right;\n",
       "    }\n",
       "</style>\n",
       "<table border=\"1\" class=\"dataframe\">\n",
       "  <thead>\n",
       "    <tr style=\"text-align: right;\">\n",
       "      <th></th>\n",
       "      <th>budget</th>\n",
       "      <th>genres</th>\n",
       "      <th>homepage</th>\n",
       "      <th>id</th>\n",
       "      <th>keywords</th>\n",
       "      <th>original_language</th>\n",
       "      <th>original_title</th>\n",
       "      <th>overview</th>\n",
       "      <th>popularity</th>\n",
       "      <th>production_companies</th>\n",
       "      <th>production_countries</th>\n",
       "      <th>release_date</th>\n",
       "      <th>revenue</th>\n",
       "      <th>runtime</th>\n",
       "      <th>spoken_languages</th>\n",
       "      <th>status</th>\n",
       "      <th>tagline</th>\n",
       "      <th>title</th>\n",
       "      <th>vote_average</th>\n",
       "      <th>vote_count</th>\n",
       "    </tr>\n",
       "  </thead>\n",
       "  <tbody>\n",
       "    <tr>\n",
       "      <th>97</th>\n",
       "      <td>15000000</td>\n",
       "      <td>[{\"id\": 28, \"name\": \"Action\"}, {\"id\": 12, \"nam...</td>\n",
       "      <td>NaN</td>\n",
       "      <td>315011</td>\n",
       "      <td>[{\"id\": 1299, \"name\": \"monster\"}, {\"id\": 7671,...</td>\n",
       "      <td>ja</td>\n",
       "      <td>シン・ゴジラ</td>\n",
       "      <td>From the mind behind Evangelion comes a hit la...</td>\n",
       "      <td>9.476999</td>\n",
       "      <td>[{\"name\": \"Cine Bazar\", \"id\": 5896}, {\"name\": ...</td>\n",
       "      <td>[{\"iso_3166_1\": \"JP\", \"name\": \"Japan\"}]</td>\n",
       "      <td>2016-07-29</td>\n",
       "      <td>77000000</td>\n",
       "      <td>120.0</td>\n",
       "      <td>[{\"iso_639_1\": \"it\", \"name\": \"Italiano\"}, {\"is...</td>\n",
       "      <td>Released</td>\n",
       "      <td>A god incarnate. A city doomed.</td>\n",
       "      <td>Shin Godzilla</td>\n",
       "      <td>6.5</td>\n",
       "      <td>143</td>\n",
       "    </tr>\n",
       "  </tbody>\n",
       "</table>\n",
       "</div>"
      ],
      "text/plain": [
       "      budget                                             genres homepage  \\\n",
       "97  15000000  [{\"id\": 28, \"name\": \"Action\"}, {\"id\": 12, \"nam...      NaN   \n",
       "\n",
       "        id                                           keywords  \\\n",
       "97  315011  [{\"id\": 1299, \"name\": \"monster\"}, {\"id\": 7671,...   \n",
       "\n",
       "   original_language original_title  \\\n",
       "97                ja         シン・ゴジラ   \n",
       "\n",
       "                                             overview  popularity  \\\n",
       "97  From the mind behind Evangelion comes a hit la...    9.476999   \n",
       "\n",
       "                                 production_companies  \\\n",
       "97  [{\"name\": \"Cine Bazar\", \"id\": 5896}, {\"name\": ...   \n",
       "\n",
       "                       production_countries release_date   revenue  runtime  \\\n",
       "97  [{\"iso_3166_1\": \"JP\", \"name\": \"Japan\"}]   2016-07-29  77000000    120.0   \n",
       "\n",
       "                                     spoken_languages    status  \\\n",
       "97  [{\"iso_639_1\": \"it\", \"name\": \"Italiano\"}, {\"is...  Released   \n",
       "\n",
       "                            tagline          title  vote_average  vote_count  \n",
       "97  A god incarnate. A city doomed.  Shin Godzilla           6.5         143  "
      ]
     },
     "execution_count": 4,
     "metadata": {},
     "output_type": "execute_result"
    }
   ],
   "source": [
    "movies.sample(1)"
   ]
  },
  {
   "cell_type": "code",
   "execution_count": 5,
   "metadata": {},
   "outputs": [
    {
     "data": {
      "text/plain": [
       "Index(['budget', 'genres', 'homepage', 'id', 'keywords', 'original_language',\n",
       "       'original_title', 'overview', 'popularity', 'production_companies',\n",
       "       'production_countries', 'release_date', 'revenue', 'runtime',\n",
       "       'spoken_languages', 'status', 'tagline', 'title', 'vote_average',\n",
       "       'vote_count'],\n",
       "      dtype='object')"
      ]
     },
     "execution_count": 5,
     "metadata": {},
     "output_type": "execute_result"
    }
   ],
   "source": [
    "movies.columns"
   ]
  },
  {
   "cell_type": "markdown",
   "metadata": {},
   "source": [
    "## Data Exploration"
   ]
  },
  {
   "cell_type": "code",
   "execution_count": 6,
   "metadata": {},
   "outputs": [],
   "source": [
    "# Rename column movie_id to id and then merging the two dataframe together on id\n",
    "credits = credits.rename({'movie_id': 'id'}, axis = 1)\n",
    "df = movies.merge(credits, on = 'id')"
   ]
  },
  {
   "cell_type": "code",
   "execution_count": 7,
   "metadata": {},
   "outputs": [],
   "source": [
    "df = df.drop_duplicates()"
   ]
  },
  {
   "cell_type": "code",
   "execution_count": 8,
   "metadata": {},
   "outputs": [
    {
     "data": {
      "text/plain": [
       "(4803, 23)"
      ]
     },
     "execution_count": 8,
     "metadata": {},
     "output_type": "execute_result"
    }
   ],
   "source": [
    "df.shape"
   ]
  },
  {
   "cell_type": "code",
   "execution_count": 9,
   "metadata": {},
   "outputs": [
    {
     "data": {
      "text/plain": [
       "budget                     0\n",
       "genres                     0\n",
       "homepage                3091\n",
       "id                         0\n",
       "keywords                   0\n",
       "original_language          0\n",
       "original_title             0\n",
       "overview                   3\n",
       "popularity                 0\n",
       "production_companies       0\n",
       "production_countries       0\n",
       "release_date               1\n",
       "revenue                    0\n",
       "runtime                    2\n",
       "spoken_languages           0\n",
       "status                     0\n",
       "tagline                  844\n",
       "title_x                    0\n",
       "vote_average               0\n",
       "vote_count                 0\n",
       "title_y                    0\n",
       "cast                       0\n",
       "crew                       0\n",
       "dtype: int64"
      ]
     },
     "execution_count": 9,
     "metadata": {},
     "output_type": "execute_result"
    }
   ],
   "source": [
    "df.isnull().sum()"
   ]
  },
  {
   "cell_type": "markdown",
   "metadata": {},
   "source": [
    "There are a lot of null values for the columns *homepage* and *tagline*. Fortunately those columns are not very important in terms of the metadata for the movies because *homepage* is just link to the movie and *tagline* is a catchphrase for a movie. Instead of *tagline* it will be much more useful to use the overview of the movies to see if movies are similar or not"
   ]
  },
  {
   "cell_type": "code",
   "execution_count": 10,
   "metadata": {},
   "outputs": [
    {
     "data": {
      "text/plain": [
       "budget                    int64\n",
       "genres                   object\n",
       "homepage                 object\n",
       "id                        int64\n",
       "keywords                 object\n",
       "original_language        object\n",
       "original_title           object\n",
       "overview                 object\n",
       "popularity              float64\n",
       "production_companies     object\n",
       "production_countries     object\n",
       "release_date             object\n",
       "revenue                   int64\n",
       "runtime                 float64\n",
       "spoken_languages         object\n",
       "status                   object\n",
       "tagline                  object\n",
       "title_x                  object\n",
       "vote_average            float64\n",
       "vote_count                int64\n",
       "title_y                  object\n",
       "cast                     object\n",
       "crew                     object\n",
       "dtype: object"
      ]
     },
     "execution_count": 10,
     "metadata": {},
     "output_type": "execute_result"
    }
   ],
   "source": [
    "df.dtypes"
   ]
  },
  {
   "cell_type": "code",
   "execution_count": 11,
   "metadata": {},
   "outputs": [
    {
     "name": "stdout",
     "output_type": "stream",
     "text": [
      "Earliest Release Date in dataset: 1916-09-04 00:00:00\n",
      "Latest Release Date in dataset: 2017-02-03 00:00:00\n"
     ]
    }
   ],
   "source": [
    "# Get Earlies and Latest Release Dates\n",
    "df['release_date'] = pd.to_datetime(df['release_date'])\n",
    "print(\"Earliest Release Date in dataset: \" + str(min(df.release_date)))\n",
    "print(\"Latest Release Date in dataset: \" + str(max(df.release_date)))"
   ]
  },
  {
   "cell_type": "code",
   "execution_count": 12,
   "metadata": {},
   "outputs": [
    {
     "data": {
      "text/plain": [
       "Text(0, 0.5, 'frequency')"
      ]
     },
     "execution_count": 12,
     "metadata": {},
     "output_type": "execute_result"
    },
    {
     "data": {
      "image/png": "[encoded data removed]",
      "text/plain": [
       "<Figure size 864x216 with 1 Axes>"
      ]
     },
     "metadata": {
      "needs_background": "light"
     },
     "output_type": "display_data"
    }
   ],
   "source": [
    "# Distribution of release years \n",
    "fig = plt.figure(figsize = (12,3))\n",
    "plt.hist(df.release_date.dt.year)\n",
    "plt.title('release_date (year) distribution')\n",
    "plt.xlabel('release_date (year)')\n",
    "plt.ylabel('frequency')"
   ]
  },
  {
   "cell_type": "code",
   "execution_count": 13,
   "metadata": {},
   "outputs": [
    {
     "data": {
      "image/png": "[encoded data removed]",
      "text/plain": [
       "<Figure size 720x720 with 6 Axes>"
      ]
     },
     "metadata": {
      "needs_background": "light"
     },
     "output_type": "display_data"
    }
   ],
   "source": [
    "continuous_features = ['budget', 'popularity', 'revenue', 'runtime',\n",
    "                      'vote_average', 'vote_count']\n",
    "\n",
    "fig, axes = plt.subplots(nrows = 3, ncols = 2, figsize = [10 ,10])\n",
    "fig.tight_layout(pad = 5.0)\n",
    "axes = axes.flatten()\n",
    "position = 0\n",
    "for feature in continuous_features:\n",
    "    axes[position].hist(df[feature])\n",
    "    axes[position].set_title(feature + \" distribution\")\n",
    "    axes[position].set_xlabel(feature)\n",
    "    axes[position].set_ylabel(\"Frequency\")\n",
    "    position = position + 1"
   ]
  },
  {
   "cell_type": "markdown",
   "metadata": {},
   "source": [
    "## Simple Recommender"
   ]
  },
  {
   "cell_type": "markdown",
   "metadata": {},
   "source": [
    "The simplest recommender system we can build is one that doesn't even use the metadata of the movie; recommends movies based off top-rated or popularity. This is a simple approach to recommending as movies that are popular or more highly rated will have a higher probability of being liked by the average audience."
   ]
  },
  {
   "cell_type": "markdown",
   "metadata": {},
   "source": [
    "### Recommendations Using Popularity"
   ]
  },
  {
   "cell_type": "markdown",
   "metadata": {},
   "source": [
    "#### Popularity"
   ]
  },
  {
   "cell_type": "code",
   "execution_count": 14,
   "metadata": {},
   "outputs": [
    {
     "data": {
      "text/html": [
       "<div>\n",
       "<style scoped>\n",
       "    .dataframe tbody tr th:only-of-type {\n",
       "        vertical-align: middle;\n",
       "    }\n",
       "\n",
       "    .dataframe tbody tr th {\n",
       "        vertical-align: top;\n",
       "    }\n",
       "\n",
       "    .dataframe thead th {\n",
       "        text-align: right;\n",
       "    }\n",
       "</style>\n",
       "<table border=\"1\" class=\"dataframe\">\n",
       "  <thead>\n",
       "    <tr style=\"text-align: right;\">\n",
       "      <th></th>\n",
       "      <th>original_title</th>\n",
       "      <th>release_date</th>\n",
       "      <th>popularity</th>\n",
       "    </tr>\n",
       "  </thead>\n",
       "  <tbody>\n",
       "    <tr>\n",
       "      <th>546</th>\n",
       "      <td>Minions</td>\n",
       "      <td>2015-06-17</td>\n",
       "      <td>875.581305</td>\n",
       "    </tr>\n",
       "    <tr>\n",
       "      <th>95</th>\n",
       "      <td>Interstellar</td>\n",
       "      <td>2014-11-05</td>\n",
       "      <td>724.247784</td>\n",
       "    </tr>\n",
       "    <tr>\n",
       "      <th>788</th>\n",
       "      <td>Deadpool</td>\n",
       "      <td>2016-02-09</td>\n",
       "      <td>514.569956</td>\n",
       "    </tr>\n",
       "    <tr>\n",
       "      <th>94</th>\n",
       "      <td>Guardians of the Galaxy</td>\n",
       "      <td>2014-07-30</td>\n",
       "      <td>481.098624</td>\n",
       "    </tr>\n",
       "    <tr>\n",
       "      <th>127</th>\n",
       "      <td>Mad Max: Fury Road</td>\n",
       "      <td>2015-05-13</td>\n",
       "      <td>434.278564</td>\n",
       "    </tr>\n",
       "    <tr>\n",
       "      <th>28</th>\n",
       "      <td>Jurassic World</td>\n",
       "      <td>2015-06-09</td>\n",
       "      <td>418.708552</td>\n",
       "    </tr>\n",
       "    <tr>\n",
       "      <th>199</th>\n",
       "      <td>Pirates of the Caribbean: The Curse of the Bla...</td>\n",
       "      <td>2003-07-09</td>\n",
       "      <td>271.972889</td>\n",
       "    </tr>\n",
       "    <tr>\n",
       "      <th>82</th>\n",
       "      <td>Dawn of the Planet of the Apes</td>\n",
       "      <td>2014-06-26</td>\n",
       "      <td>243.791743</td>\n",
       "    </tr>\n",
       "    <tr>\n",
       "      <th>200</th>\n",
       "      <td>The Hunger Games: Mockingjay - Part 1</td>\n",
       "      <td>2014-11-18</td>\n",
       "      <td>206.227151</td>\n",
       "    </tr>\n",
       "    <tr>\n",
       "      <th>88</th>\n",
       "      <td>Big Hero 6</td>\n",
       "      <td>2014-10-24</td>\n",
       "      <td>203.734590</td>\n",
       "    </tr>\n",
       "  </tbody>\n",
       "</table>\n",
       "</div>"
      ],
      "text/plain": [
       "                                        original_title release_date  \\\n",
       "546                                            Minions   2015-06-17   \n",
       "95                                        Interstellar   2014-11-05   \n",
       "788                                           Deadpool   2016-02-09   \n",
       "94                             Guardians of the Galaxy   2014-07-30   \n",
       "127                                 Mad Max: Fury Road   2015-05-13   \n",
       "28                                      Jurassic World   2015-06-09   \n",
       "199  Pirates of the Caribbean: The Curse of the Bla...   2003-07-09   \n",
       "82                      Dawn of the Planet of the Apes   2014-06-26   \n",
       "200              The Hunger Games: Mockingjay - Part 1   2014-11-18   \n",
       "88                                          Big Hero 6   2014-10-24   \n",
       "\n",
       "     popularity  \n",
       "546  875.581305  \n",
       "95   724.247784  \n",
       "788  514.569956  \n",
       "94   481.098624  \n",
       "127  434.278564  \n",
       "28   418.708552  \n",
       "199  271.972889  \n",
       "82   243.791743  \n",
       "200  206.227151  \n",
       "88   203.734590  "
      ]
     },
     "execution_count": 14,
     "metadata": {},
     "output_type": "execute_result"
    }
   ],
   "source": [
    "df.sort_values('popularity', ascending = False)[['original_title', 'release_date','popularity']].head(10)"
   ]
  },
  {
   "cell_type": "markdown",
   "metadata": {},
   "source": [
    "### Recommendations Using Rating"
   ]
  },
  {
   "cell_type": "markdown",
   "metadata": {},
   "source": [
    "#### Weighted Rating"
   ]
  },
  {
   "cell_type": "markdown",
   "metadata": {},
   "source": [
    "From our data, we have a vote_average feature. The vote_average feature is just the average rating given for that movie. This feature is a little deceiving. Just because a movie has a higher vote_average than another, it does not necessarily mean it is better. We need to take into consideration the number of votes a movie has received. Luckily, we have a vote_count feature in our data that tells us the number of votes a movie has received. A movie with a vote_average of 8 and a vote_count of 10 is not necessarily a better movie than one that has a vote_average of 7.5, but 1000 votes. \n",
    "\n",
    "By sorting our data by the vote_average, we get the following results:"
   ]
  },
  {
   "cell_type": "code",
   "execution_count": 15,
   "metadata": {
    "scrolled": true
   },
   "outputs": [
    {
     "data": {
      "text/html": [
       "<div>\n",
       "<style scoped>\n",
       "    .dataframe tbody tr th:only-of-type {\n",
       "        vertical-align: middle;\n",
       "    }\n",
       "\n",
       "    .dataframe tbody tr th {\n",
       "        vertical-align: top;\n",
       "    }\n",
       "\n",
       "    .dataframe thead th {\n",
       "        text-align: right;\n",
       "    }\n",
       "</style>\n",
       "<table border=\"1\" class=\"dataframe\">\n",
       "  <thead>\n",
       "    <tr style=\"text-align: right;\">\n",
       "      <th></th>\n",
       "      <th>original_title</th>\n",
       "      <th>vote_count</th>\n",
       "      <th>vote_average</th>\n",
       "    </tr>\n",
       "  </thead>\n",
       "  <tbody>\n",
       "    <tr>\n",
       "      <th>3519</th>\n",
       "      <td>Stiff Upper Lips</td>\n",
       "      <td>1</td>\n",
       "      <td>10.0</td>\n",
       "    </tr>\n",
       "    <tr>\n",
       "      <th>4247</th>\n",
       "      <td>Me You and Five Bucks</td>\n",
       "      <td>2</td>\n",
       "      <td>10.0</td>\n",
       "    </tr>\n",
       "    <tr>\n",
       "      <th>4045</th>\n",
       "      <td>Dancer, Texas Pop. 81</td>\n",
       "      <td>1</td>\n",
       "      <td>10.0</td>\n",
       "    </tr>\n",
       "    <tr>\n",
       "      <th>4662</th>\n",
       "      <td>Little Big Top</td>\n",
       "      <td>1</td>\n",
       "      <td>10.0</td>\n",
       "    </tr>\n",
       "    <tr>\n",
       "      <th>3992</th>\n",
       "      <td>Sardaarji</td>\n",
       "      <td>2</td>\n",
       "      <td>9.5</td>\n",
       "    </tr>\n",
       "    <tr>\n",
       "      <th>2386</th>\n",
       "      <td>One Man's Hero</td>\n",
       "      <td>2</td>\n",
       "      <td>9.3</td>\n",
       "    </tr>\n",
       "    <tr>\n",
       "      <th>2970</th>\n",
       "      <td>There Goes My Baby</td>\n",
       "      <td>2</td>\n",
       "      <td>8.5</td>\n",
       "    </tr>\n",
       "    <tr>\n",
       "      <th>1881</th>\n",
       "      <td>The Shawshank Redemption</td>\n",
       "      <td>8205</td>\n",
       "      <td>8.5</td>\n",
       "    </tr>\n",
       "    <tr>\n",
       "      <th>2796</th>\n",
       "      <td>The Prisoner of Zenda</td>\n",
       "      <td>11</td>\n",
       "      <td>8.4</td>\n",
       "    </tr>\n",
       "    <tr>\n",
       "      <th>3337</th>\n",
       "      <td>The Godfather</td>\n",
       "      <td>5893</td>\n",
       "      <td>8.4</td>\n",
       "    </tr>\n",
       "  </tbody>\n",
       "</table>\n",
       "</div>"
      ],
      "text/plain": [
       "                original_title  vote_count  vote_average\n",
       "3519          Stiff Upper Lips           1          10.0\n",
       "4247     Me You and Five Bucks           2          10.0\n",
       "4045     Dancer, Texas Pop. 81           1          10.0\n",
       "4662            Little Big Top           1          10.0\n",
       "3992                 Sardaarji           2           9.5\n",
       "2386            One Man's Hero           2           9.3\n",
       "2970        There Goes My Baby           2           8.5\n",
       "1881  The Shawshank Redemption        8205           8.5\n",
       "2796     The Prisoner of Zenda          11           8.4\n",
       "3337             The Godfather        5893           8.4"
      ]
     },
     "execution_count": 15,
     "metadata": {},
     "output_type": "execute_result"
    }
   ],
   "source": [
    "df.sort_values('vote_average', ascending = False)[['original_title', 'vote_count', 'vote_average']].head(10)"
   ]
  },
  {
   "cell_type": "markdown",
   "metadata": {},
   "source": [
    "These results suggest that \"Stiff Upper Lips\" and \"Me You and Five Bucks\" are movies you should watch 🤢 (jk I'm sure they're great movies too). This just shows we can't rely on vote_average to get the top-rated movies especially when the mentioned movies are listed above \"The Shawshank Redemption\" and \"The Godfather\" which are some GOATed movies. \n",
    "So, how can we get the top movies? What we can do is use IMDB's Weighted Rating system on our movie dataset. The formula for the weighted rating is:"
   ]
  },
  {
   "cell_type": "markdown",
   "metadata": {},
   "source": [
    "**IMDB** uses a weighted rating for their movies. The formula for the weighted rating is:\n",
    "\n",
    "$$WR = (\\frac{v}{v + m})R + (\\frac{m}{v + m})C$$\n",
    "\n",
    "* R - average rating for the movie (the *vote_average* column)\n",
    "* v - number of votes for the movie (the *vote_count* column)\n",
    "* m - minimum votes required to be listed (need to calculate this)\n",
    "* C - average vote across entire data (need to calculate this)"
   ]
  },
  {
   "cell_type": "code",
   "execution_count": 16,
   "metadata": {},
   "outputs": [
    {
     "name": "stdout",
     "output_type": "stream",
     "text": [
      "(481, 23)\n"
     ]
    }
   ],
   "source": [
    "c = df['vote_average'].mean()\n",
    "m = df['vote_count'].quantile(0.90)\n",
    "df_top_rated = df.copy().loc[df['vote_count'] >= m]\n",
    "print(df_top_rated.shape)"
   ]
  },
  {
   "cell_type": "markdown",
   "metadata": {},
   "source": [
    "There are 481 movies that fit the minimum number of votes needed to make the top-rated list.\n",
    "\n",
    "By computing the weighted rating and sorting by the highest weighted rating we get the following results:"
   ]
  },
  {
   "cell_type": "markdown",
   "metadata": {},
   "source": [
    "There are 481 movies that fit the minimum number of votes needed to make the top-rated list."
   ]
  },
  {
   "cell_type": "code",
   "execution_count": 17,
   "metadata": {},
   "outputs": [],
   "source": [
    "def weighted_rating(movie, m=m, c=c):\n",
    "    R = movie['vote_average']\n",
    "    v = movie['vote_count']\n",
    "    \n",
    "    weighted_rate = (v/(v+m)*R) + (m/(m+v)*c)\n",
    "    return weighted_rate\n",
    "    \n",
    "df_top_rated['weighted_rating'] = df_top_rated.apply(weighted_rating, axis = 1)"
   ]
  },
  {
   "cell_type": "code",
   "execution_count": 18,
   "metadata": {},
   "outputs": [
    {
     "data": {
      "text/html": [
       "<div>\n",
       "<style scoped>\n",
       "    .dataframe tbody tr th:only-of-type {\n",
       "        vertical-align: middle;\n",
       "    }\n",
       "\n",
       "    .dataframe tbody tr th {\n",
       "        vertical-align: top;\n",
       "    }\n",
       "\n",
       "    .dataframe thead th {\n",
       "        text-align: right;\n",
       "    }\n",
       "</style>\n",
       "<table border=\"1\" class=\"dataframe\">\n",
       "  <thead>\n",
       "    <tr style=\"text-align: right;\">\n",
       "      <th></th>\n",
       "      <th>original_title</th>\n",
       "      <th>weighted_rating</th>\n",
       "    </tr>\n",
       "  </thead>\n",
       "  <tbody>\n",
       "    <tr>\n",
       "      <th>1881</th>\n",
       "      <td>The Shawshank Redemption</td>\n",
       "      <td>8.059258</td>\n",
       "    </tr>\n",
       "    <tr>\n",
       "      <th>662</th>\n",
       "      <td>Fight Club</td>\n",
       "      <td>7.939256</td>\n",
       "    </tr>\n",
       "    <tr>\n",
       "      <th>65</th>\n",
       "      <td>The Dark Knight</td>\n",
       "      <td>7.920020</td>\n",
       "    </tr>\n",
       "    <tr>\n",
       "      <th>3232</th>\n",
       "      <td>Pulp Fiction</td>\n",
       "      <td>7.904645</td>\n",
       "    </tr>\n",
       "    <tr>\n",
       "      <th>96</th>\n",
       "      <td>Inception</td>\n",
       "      <td>7.863239</td>\n",
       "    </tr>\n",
       "    <tr>\n",
       "      <th>3337</th>\n",
       "      <td>The Godfather</td>\n",
       "      <td>7.851236</td>\n",
       "    </tr>\n",
       "    <tr>\n",
       "      <th>95</th>\n",
       "      <td>Interstellar</td>\n",
       "      <td>7.809479</td>\n",
       "    </tr>\n",
       "    <tr>\n",
       "      <th>809</th>\n",
       "      <td>Forrest Gump</td>\n",
       "      <td>7.803188</td>\n",
       "    </tr>\n",
       "    <tr>\n",
       "      <th>329</th>\n",
       "      <td>The Lord of the Rings: The Return of the King</td>\n",
       "      <td>7.727243</td>\n",
       "    </tr>\n",
       "    <tr>\n",
       "      <th>1990</th>\n",
       "      <td>The Empire Strikes Back</td>\n",
       "      <td>7.697884</td>\n",
       "    </tr>\n",
       "  </tbody>\n",
       "</table>\n",
       "</div>"
      ],
      "text/plain": [
       "                                     original_title  weighted_rating\n",
       "1881                       The Shawshank Redemption         8.059258\n",
       "662                                      Fight Club         7.939256\n",
       "65                                  The Dark Knight         7.920020\n",
       "3232                                   Pulp Fiction         7.904645\n",
       "96                                        Inception         7.863239\n",
       "3337                                  The Godfather         7.851236\n",
       "95                                     Interstellar         7.809479\n",
       "809                                    Forrest Gump         7.803188\n",
       "329   The Lord of the Rings: The Return of the King         7.727243\n",
       "1990                        The Empire Strikes Back         7.697884"
      ]
     },
     "execution_count": 18,
     "metadata": {},
     "output_type": "execute_result"
    }
   ],
   "source": [
    "df_top_rated.sort_values('weighted_rating', ascending = False)[['original_title', 'weighted_rating']].head(10)"
   ]
  },
  {
   "cell_type": "markdown",
   "metadata": {},
   "source": [
    "These results make much more sense as these are some really great movies. \n",
    "\n",
    "The advantage of this type of approach is that it is very simple. It does not require any sort of user data to make recommendations. It simply recommends the top-rated movies which most of the time the average viewer will enjoy watching.\n",
    "\n",
    "The disadvantage of this type of approach is that it is not tailored to an individual. It recommends the same movie to everyone. What if you aren't like the average viewer and you don't like what is popular? If we really want to enhance user experience, we need the recommender system to make more personalized recommendations."
   ]
  },
  {
   "cell_type": "markdown",
   "metadata": {},
   "source": [
    "## Content-Based Filtering"
   ]
  },
  {
   "cell_type": "markdown",
   "metadata": {},
   "source": [
    "For Content-Based Filtering, we are not looking at the behavior of other users, we are using the attributes of the movies to make recommendations.\n"
   ]
  },
  {
   "cell_type": "markdown",
   "metadata": {},
   "source": [
    "## Recommendations Using the Overview"
   ]
  },
  {
   "cell_type": "markdown",
   "metadata": {},
   "source": [
    "We can use the overview column to help make movie recommendations. If you enjoy a movie, it is very likely you will enjoy another with a similar plot or overview.\n",
    "How do we calculate whether two plots are similar or not? We need to convert the overview from a sequence of words into numbers which we can use to calculate some sort of similarity score."
   ]
  },
  {
   "cell_type": "code",
   "execution_count": null,
   "metadata": {},
   "outputs": [],
   "source": [
    "# # stemming\n",
    "# df['overview'] = df['overview'].astype(str)                                                        \n",
    "# df['overview'] = df['overview'].apply(lambda x: [item for item in x.split()])\n",
    "\n",
    "# df['overview'] = df['overview'].apply(lambda x: \" \".join([stemmer.stem(i) for i in x]))\n",
    "# df['overview']"
   ]
  },
  {
   "cell_type": "markdown",
   "metadata": {},
   "source": [
    "### Term Frequency - Inverse Document Frequency (TF-IDF) On Movie Overview"
   ]
  },
  {
   "cell_type": "markdown",
   "metadata": {},
   "source": [
    "We will be using TF-IDF to convert the overviews into a number of vectors where the numbers of the vectors represent the content of the text. TF-IDF determines how important a word is to a text document (overview in our case) in a collection of documents (overviews) in a dataset. Essentially, it is a weighting factor for words. TF-IDF gives a score for each word, the higher the score, the more relevant it is. This is done by multiplying two terms together: TF x IDF\n",
    "\n",
    "$$w_{i,j} = tf_{i,j} * idf_i$$\n",
    "\n",
    "TF is the Term Frequency. It is the number of times a word appears in a document. For example: if the word superhero appears 9 times in a 100-word overview, the term frequency would be 0.09.\n",
    "\n",
    "IDF is the Inverse Document Frequency. It is the weight of the word. If the word appears often throughout all of the overviews in the dataset, then it does not have much weight. Below is the equation for this term:\n",
    "\n",
    "$$idf_i = log(\\frac{n}{df_i})$$\n",
    "\n",
    "Where n is the number of overviews, and df is the document frequency; the number of overviews containing a specific word."
   ]
  },
  {
   "cell_type": "code",
   "execution_count": 19,
   "metadata": {},
   "outputs": [],
   "source": [
    "# remove stopwords. Stopwords are common words that add no meaning to the text\n",
    "tfidf_model = TfidfVectorizer(stop_words = 'english')\n",
    "tfidf_overview = tfidf_model.fit_transform(df['overview'].values.astype('str'))"
   ]
  },
  {
   "cell_type": "code",
   "execution_count": 20,
   "metadata": {},
   "outputs": [
    {
     "data": {
      "text/plain": [
       "(4803, 20979)"
      ]
     },
     "execution_count": 20,
     "metadata": {},
     "output_type": "execute_result"
    }
   ],
   "source": [
    "tfidf_overview.shape"
   ]
  },
  {
   "cell_type": "markdown",
   "metadata": {},
   "source": [
    "The shape of the tfidf matrix tells us that 20979 unique words (after removing stopwords) were used to described the 4803 movies. \n",
    "\n",
    "Once we have computed the TF-IDF for all the overviews in the dataset, we end up with an N x M matrix where N is the number of movies in our dataset and M is the number of unique words used to describe all the movies. Therefore each row represents a movie and the columns are individual words. Each movie is represented by a vector where the values inside the vector are the weights of the word if it appears in the movie's overview. Below is what our movie overviews look like after TF-IDF:"
   ]
  },
  {
   "cell_type": "code",
   "execution_count": 21,
   "metadata": {},
   "outputs": [
    {
     "name": "stdout",
     "output_type": "stream",
     "text": [
      "[[0. 0. 0. ... 0. 0. 0.]\n",
      " [0. 0. 0. ... 0. 0. 0.]\n",
      " [0. 0. 0. ... 0. 0. 0.]\n",
      " ...\n",
      " [0. 0. 0. ... 0. 0. 0.]\n",
      " [0. 0. 0. ... 0. 0. 0.]\n",
      " [0. 0. 0. ... 0. 0. 0.]]\n"
     ]
    }
   ],
   "source": [
    "word_set = tfidf_model.get_feature_names()\n",
    "tfidf_array = tfidf_overview.toarray()\n",
    "print(tfidf_array)"
   ]
  },
  {
   "cell_type": "code",
   "execution_count": 22,
   "metadata": {},
   "outputs": [
    {
     "data": {
      "text/html": [
       "<div>\n",
       "<style scoped>\n",
       "    .dataframe tbody tr th:only-of-type {\n",
       "        vertical-align: middle;\n",
       "    }\n",
       "\n",
       "    .dataframe tbody tr th {\n",
       "        vertical-align: top;\n",
       "    }\n",
       "\n",
       "    .dataframe thead th {\n",
       "        text-align: right;\n",
       "    }\n",
       "</style>\n",
       "<table border=\"1\" class=\"dataframe\">\n",
       "  <thead>\n",
       "    <tr style=\"text-align: right;\">\n",
       "      <th></th>\n",
       "      <th>00</th>\n",
       "      <th>000</th>\n",
       "      <th>007</th>\n",
       "      <th>07am</th>\n",
       "      <th>10</th>\n",
       "      <th>100</th>\n",
       "      <th>1000</th>\n",
       "      <th>101</th>\n",
       "      <th>108</th>\n",
       "      <th>10th</th>\n",
       "      <th>...</th>\n",
       "      <th>zuckerberg</th>\n",
       "      <th>zula</th>\n",
       "      <th>zuzu</th>\n",
       "      <th>zyklon</th>\n",
       "      <th>æon</th>\n",
       "      <th>éloigne</th>\n",
       "      <th>émigré</th>\n",
       "      <th>été</th>\n",
       "      <th>única</th>\n",
       "      <th>über</th>\n",
       "    </tr>\n",
       "  </thead>\n",
       "  <tbody>\n",
       "    <tr>\n",
       "      <th>0</th>\n",
       "      <td>0.0</td>\n",
       "      <td>0.0</td>\n",
       "      <td>0.0</td>\n",
       "      <td>0.0</td>\n",
       "      <td>0.0</td>\n",
       "      <td>0.0</td>\n",
       "      <td>0.0</td>\n",
       "      <td>0.0</td>\n",
       "      <td>0.0</td>\n",
       "      <td>0.0</td>\n",
       "      <td>...</td>\n",
       "      <td>0.0</td>\n",
       "      <td>0.0</td>\n",
       "      <td>0.0</td>\n",
       "      <td>0.0</td>\n",
       "      <td>0.0</td>\n",
       "      <td>0.0</td>\n",
       "      <td>0.0</td>\n",
       "      <td>0.0</td>\n",
       "      <td>0.0</td>\n",
       "      <td>0.0</td>\n",
       "    </tr>\n",
       "    <tr>\n",
       "      <th>1</th>\n",
       "      <td>0.0</td>\n",
       "      <td>0.0</td>\n",
       "      <td>0.0</td>\n",
       "      <td>0.0</td>\n",
       "      <td>0.0</td>\n",
       "      <td>0.0</td>\n",
       "      <td>0.0</td>\n",
       "      <td>0.0</td>\n",
       "      <td>0.0</td>\n",
       "      <td>0.0</td>\n",
       "      <td>...</td>\n",
       "      <td>0.0</td>\n",
       "      <td>0.0</td>\n",
       "      <td>0.0</td>\n",
       "      <td>0.0</td>\n",
       "      <td>0.0</td>\n",
       "      <td>0.0</td>\n",
       "      <td>0.0</td>\n",
       "      <td>0.0</td>\n",
       "      <td>0.0</td>\n",
       "      <td>0.0</td>\n",
       "    </tr>\n",
       "    <tr>\n",
       "      <th>2</th>\n",
       "      <td>0.0</td>\n",
       "      <td>0.0</td>\n",
       "      <td>0.0</td>\n",
       "      <td>0.0</td>\n",
       "      <td>0.0</td>\n",
       "      <td>0.0</td>\n",
       "      <td>0.0</td>\n",
       "      <td>0.0</td>\n",
       "      <td>0.0</td>\n",
       "      <td>0.0</td>\n",
       "      <td>...</td>\n",
       "      <td>0.0</td>\n",
       "      <td>0.0</td>\n",
       "      <td>0.0</td>\n",
       "      <td>0.0</td>\n",
       "      <td>0.0</td>\n",
       "      <td>0.0</td>\n",
       "      <td>0.0</td>\n",
       "      <td>0.0</td>\n",
       "      <td>0.0</td>\n",
       "      <td>0.0</td>\n",
       "    </tr>\n",
       "    <tr>\n",
       "      <th>3</th>\n",
       "      <td>0.0</td>\n",
       "      <td>0.0</td>\n",
       "      <td>0.0</td>\n",
       "      <td>0.0</td>\n",
       "      <td>0.0</td>\n",
       "      <td>0.0</td>\n",
       "      <td>0.0</td>\n",
       "      <td>0.0</td>\n",
       "      <td>0.0</td>\n",
       "      <td>0.0</td>\n",
       "      <td>...</td>\n",
       "      <td>0.0</td>\n",
       "      <td>0.0</td>\n",
       "      <td>0.0</td>\n",
       "      <td>0.0</td>\n",
       "      <td>0.0</td>\n",
       "      <td>0.0</td>\n",
       "      <td>0.0</td>\n",
       "      <td>0.0</td>\n",
       "      <td>0.0</td>\n",
       "      <td>0.0</td>\n",
       "    </tr>\n",
       "    <tr>\n",
       "      <th>4</th>\n",
       "      <td>0.0</td>\n",
       "      <td>0.0</td>\n",
       "      <td>0.0</td>\n",
       "      <td>0.0</td>\n",
       "      <td>0.0</td>\n",
       "      <td>0.0</td>\n",
       "      <td>0.0</td>\n",
       "      <td>0.0</td>\n",
       "      <td>0.0</td>\n",
       "      <td>0.0</td>\n",
       "      <td>...</td>\n",
       "      <td>0.0</td>\n",
       "      <td>0.0</td>\n",
       "      <td>0.0</td>\n",
       "      <td>0.0</td>\n",
       "      <td>0.0</td>\n",
       "      <td>0.0</td>\n",
       "      <td>0.0</td>\n",
       "      <td>0.0</td>\n",
       "      <td>0.0</td>\n",
       "      <td>0.0</td>\n",
       "    </tr>\n",
       "  </tbody>\n",
       "</table>\n",
       "<p>5 rows × 20979 columns</p>\n",
       "</div>"
      ],
      "text/plain": [
       "    00  000  007  07am   10  100  1000  101  108  10th  ...  zuckerberg  zula  \\\n",
       "0  0.0  0.0  0.0   0.0  0.0  0.0   0.0  0.0  0.0   0.0  ...         0.0   0.0   \n",
       "1  0.0  0.0  0.0   0.0  0.0  0.0   0.0  0.0  0.0   0.0  ...         0.0   0.0   \n",
       "2  0.0  0.0  0.0   0.0  0.0  0.0   0.0  0.0  0.0   0.0  ...         0.0   0.0   \n",
       "3  0.0  0.0  0.0   0.0  0.0  0.0   0.0  0.0  0.0   0.0  ...         0.0   0.0   \n",
       "4  0.0  0.0  0.0   0.0  0.0  0.0   0.0  0.0  0.0   0.0  ...         0.0   0.0   \n",
       "\n",
       "   zuzu  zyklon  æon  éloigne  émigré  été  única  über  \n",
       "0   0.0     0.0  0.0      0.0     0.0  0.0    0.0   0.0  \n",
       "1   0.0     0.0  0.0      0.0     0.0  0.0    0.0   0.0  \n",
       "2   0.0     0.0  0.0      0.0     0.0  0.0    0.0   0.0  \n",
       "3   0.0     0.0  0.0      0.0     0.0  0.0    0.0   0.0  \n",
       "4   0.0     0.0  0.0      0.0     0.0  0.0    0.0   0.0  \n",
       "\n",
       "[5 rows x 20979 columns]"
      ]
     },
     "execution_count": 22,
     "metadata": {},
     "output_type": "execute_result"
    }
   ],
   "source": [
    "df_tfidf_overview = pd.DataFrame(tfidf_array, columns = word_set)\n",
    "df_tfidf_overview.head()"
   ]
  },
  {
   "cell_type": "markdown",
   "metadata": {},
   "source": [
    "It is a very sparse matrix, but you can see each movie is represented by a vector and a weight assigned for each word. We will be using this matrix of vectors to calculate the similarity between movies."
   ]
  },
  {
   "cell_type": "markdown",
   "metadata": {},
   "source": [
    "### Cosine Similarity"
   ]
  },
  {
   "cell_type": "markdown",
   "metadata": {},
   "source": [
    "Cosine Similarity is a measurement that computes how similar two vectors are to each other. We will be using the results of TF-IDF and compute the Cosine Similarity as the movies are now represented by vectors. \n",
    "\n",
    "The equation for Cosine Similarity is:\n",
    "\n",
    "$$\\cos(\\theta) = \\frac{A\\cdot B}{||A||||B||}$$\n",
    "\n",
    "The numerator is the dot product between vector A and vector B. The denominator is the magnitude of vector A multiplied by the magnitude of vector B.\n",
    "\n",
    "The result after computing the cosine similarity is an N x N matrix where N is the number of movies."
   ]
  },
  {
   "cell_type": "code",
   "execution_count": 23,
   "metadata": {},
   "outputs": [],
   "source": [
    "cosine_score = linear_kernel(tfidf_overview, tfidf_overview)"
   ]
  },
  {
   "cell_type": "code",
   "execution_count": 24,
   "metadata": {},
   "outputs": [
    {
     "data": {
      "text/plain": [
       "array([[1.        , 0.        , 0.        , ..., 0.        , 0.        ,\n",
       "        0.        ],\n",
       "       [0.        , 1.        , 0.        , ..., 0.02160533, 0.        ,\n",
       "        0.        ],\n",
       "       [0.        , 0.        , 1.        , ..., 0.01488159, 0.        ,\n",
       "        0.        ],\n",
       "       ...,\n",
       "       [0.        , 0.02160533, 0.01488159, ..., 1.        , 0.01609091,\n",
       "        0.00701914],\n",
       "       [0.        , 0.        , 0.        , ..., 0.01609091, 1.        ,\n",
       "        0.01171696],\n",
       "       [0.        , 0.        , 0.        , ..., 0.00701914, 0.01171696,\n",
       "        1.        ]])"
      ]
     },
     "execution_count": 24,
     "metadata": {},
     "output_type": "execute_result"
    }
   ],
   "source": [
    "cosine_score"
   ]
  },
  {
   "cell_type": "markdown",
   "metadata": {},
   "source": [
    "We now have a matrix of values between 0 and 1. We will visualize this in a dataframe to better understand what these values mean."
   ]
  },
  {
   "cell_type": "code",
   "execution_count": 25,
   "metadata": {},
   "outputs": [],
   "source": [
    "cosine_df = pd.DataFrame(cosine_score, columns = df['original_title'].values.tolist())\n",
    "cosine_df.index = df['original_title'].values.tolist()"
   ]
  },
  {
   "cell_type": "code",
   "execution_count": 26,
   "metadata": {},
   "outputs": [
    {
     "data": {
      "text/html": [
       "<div>\n",
       "<style scoped>\n",
       "    .dataframe tbody tr th:only-of-type {\n",
       "        vertical-align: middle;\n",
       "    }\n",
       "\n",
       "    .dataframe tbody tr th {\n",
       "        vertical-align: top;\n",
       "    }\n",
       "\n",
       "    .dataframe thead th {\n",
       "        text-align: right;\n",
       "    }\n",
       "</style>\n",
       "<table border=\"1\" class=\"dataframe\">\n",
       "  <thead>\n",
       "    <tr style=\"text-align: right;\">\n",
       "      <th></th>\n",
       "      <th>Avatar</th>\n",
       "      <th>Pirates of the Caribbean: At World's End</th>\n",
       "      <th>Spectre</th>\n",
       "      <th>The Dark Knight Rises</th>\n",
       "      <th>John Carter</th>\n",
       "      <th>Spider-Man 3</th>\n",
       "      <th>Tangled</th>\n",
       "      <th>Avengers: Age of Ultron</th>\n",
       "      <th>Harry Potter and the Half-Blood Prince</th>\n",
       "      <th>Batman v Superman: Dawn of Justice</th>\n",
       "      <th>...</th>\n",
       "      <th>On The Downlow</th>\n",
       "      <th>Sanctuary: Quite a Conundrum</th>\n",
       "      <th>Bang</th>\n",
       "      <th>Primer</th>\n",
       "      <th>Cavite</th>\n",
       "      <th>El Mariachi</th>\n",
       "      <th>Newlyweds</th>\n",
       "      <th>Signed, Sealed, Delivered</th>\n",
       "      <th>Shanghai Calling</th>\n",
       "      <th>My Date with Drew</th>\n",
       "    </tr>\n",
       "  </thead>\n",
       "  <tbody>\n",
       "    <tr>\n",
       "      <th>Avatar</th>\n",
       "      <td>1.000000</td>\n",
       "      <td>0.000000</td>\n",
       "      <td>0.0</td>\n",
       "      <td>0.024995</td>\n",
       "      <td>0.000000</td>\n",
       "      <td>0.030353</td>\n",
       "      <td>0.000000</td>\n",
       "      <td>0.037581</td>\n",
       "      <td>0.000000</td>\n",
       "      <td>0.000000</td>\n",
       "      <td>...</td>\n",
       "      <td>0.000000</td>\n",
       "      <td>0.0</td>\n",
       "      <td>0.029175</td>\n",
       "      <td>0.042176</td>\n",
       "      <td>0.000000</td>\n",
       "      <td>0.0</td>\n",
       "      <td>0.0</td>\n",
       "      <td>0.000000</td>\n",
       "      <td>0.000000</td>\n",
       "      <td>0.000000</td>\n",
       "    </tr>\n",
       "    <tr>\n",
       "      <th>Pirates of the Caribbean: At World's End</th>\n",
       "      <td>0.000000</td>\n",
       "      <td>1.000000</td>\n",
       "      <td>0.0</td>\n",
       "      <td>0.000000</td>\n",
       "      <td>0.033369</td>\n",
       "      <td>0.000000</td>\n",
       "      <td>0.000000</td>\n",
       "      <td>0.022676</td>\n",
       "      <td>0.000000</td>\n",
       "      <td>0.000000</td>\n",
       "      <td>...</td>\n",
       "      <td>0.000000</td>\n",
       "      <td>0.0</td>\n",
       "      <td>0.006895</td>\n",
       "      <td>0.000000</td>\n",
       "      <td>0.000000</td>\n",
       "      <td>0.0</td>\n",
       "      <td>0.0</td>\n",
       "      <td>0.021605</td>\n",
       "      <td>0.000000</td>\n",
       "      <td>0.000000</td>\n",
       "    </tr>\n",
       "    <tr>\n",
       "      <th>Spectre</th>\n",
       "      <td>0.000000</td>\n",
       "      <td>0.000000</td>\n",
       "      <td>1.0</td>\n",
       "      <td>0.000000</td>\n",
       "      <td>0.000000</td>\n",
       "      <td>0.000000</td>\n",
       "      <td>0.000000</td>\n",
       "      <td>0.030949</td>\n",
       "      <td>0.024830</td>\n",
       "      <td>0.000000</td>\n",
       "      <td>...</td>\n",
       "      <td>0.027695</td>\n",
       "      <td>0.0</td>\n",
       "      <td>0.000000</td>\n",
       "      <td>0.000000</td>\n",
       "      <td>0.017768</td>\n",
       "      <td>0.0</td>\n",
       "      <td>0.0</td>\n",
       "      <td>0.014882</td>\n",
       "      <td>0.000000</td>\n",
       "      <td>0.000000</td>\n",
       "    </tr>\n",
       "    <tr>\n",
       "      <th>The Dark Knight Rises</th>\n",
       "      <td>0.024995</td>\n",
       "      <td>0.000000</td>\n",
       "      <td>0.0</td>\n",
       "      <td>1.000000</td>\n",
       "      <td>0.010433</td>\n",
       "      <td>0.005145</td>\n",
       "      <td>0.012601</td>\n",
       "      <td>0.026954</td>\n",
       "      <td>0.020652</td>\n",
       "      <td>0.133740</td>\n",
       "      <td>...</td>\n",
       "      <td>0.000000</td>\n",
       "      <td>0.0</td>\n",
       "      <td>0.000000</td>\n",
       "      <td>0.000000</td>\n",
       "      <td>0.000000</td>\n",
       "      <td>0.0</td>\n",
       "      <td>0.0</td>\n",
       "      <td>0.033864</td>\n",
       "      <td>0.042752</td>\n",
       "      <td>0.022692</td>\n",
       "    </tr>\n",
       "    <tr>\n",
       "      <th>John Carter</th>\n",
       "      <td>0.000000</td>\n",
       "      <td>0.033369</td>\n",
       "      <td>0.0</td>\n",
       "      <td>0.010433</td>\n",
       "      <td>1.000000</td>\n",
       "      <td>0.000000</td>\n",
       "      <td>0.009339</td>\n",
       "      <td>0.037407</td>\n",
       "      <td>0.000000</td>\n",
       "      <td>0.017148</td>\n",
       "      <td>...</td>\n",
       "      <td>0.012730</td>\n",
       "      <td>0.0</td>\n",
       "      <td>0.000000</td>\n",
       "      <td>0.000000</td>\n",
       "      <td>0.000000</td>\n",
       "      <td>0.0</td>\n",
       "      <td>0.0</td>\n",
       "      <td>0.006126</td>\n",
       "      <td>0.000000</td>\n",
       "      <td>0.000000</td>\n",
       "    </tr>\n",
       "  </tbody>\n",
       "</table>\n",
       "<p>5 rows × 4803 columns</p>\n",
       "</div>"
      ],
      "text/plain": [
       "                                            Avatar  \\\n",
       "Avatar                                    1.000000   \n",
       "Pirates of the Caribbean: At World's End  0.000000   \n",
       "Spectre                                   0.000000   \n",
       "The Dark Knight Rises                     0.024995   \n",
       "John Carter                               0.000000   \n",
       "\n",
       "                                          Pirates of the Caribbean: At World's End  \\\n",
       "Avatar                                                                    0.000000   \n",
       "Pirates of the Caribbean: At World's End                                  1.000000   \n",
       "Spectre                                                                   0.000000   \n",
       "The Dark Knight Rises                                                     0.000000   \n",
       "John Carter                                                               0.033369   \n",
       "\n",
       "                                          Spectre  The Dark Knight Rises  \\\n",
       "Avatar                                        0.0               0.024995   \n",
       "Pirates of the Caribbean: At World's End      0.0               0.000000   \n",
       "Spectre                                       1.0               0.000000   \n",
       "The Dark Knight Rises                         0.0               1.000000   \n",
       "John Carter                                   0.0               0.010433   \n",
       "\n",
       "                                          John Carter  Spider-Man 3   Tangled  \\\n",
       "Avatar                                       0.000000      0.030353  0.000000   \n",
       "Pirates of the Caribbean: At World's End     0.033369      0.000000  0.000000   \n",
       "Spectre                                      0.000000      0.000000  0.000000   \n",
       "The Dark Knight Rises                        0.010433      0.005145  0.012601   \n",
       "John Carter                                  1.000000      0.000000  0.009339   \n",
       "\n",
       "                                          Avengers: Age of Ultron  \\\n",
       "Avatar                                                   0.037581   \n",
       "Pirates of the Caribbean: At World's End                 0.022676   \n",
       "Spectre                                                  0.030949   \n",
       "The Dark Knight Rises                                    0.026954   \n",
       "John Carter                                              0.037407   \n",
       "\n",
       "                                          Harry Potter and the Half-Blood Prince  \\\n",
       "Avatar                                                                  0.000000   \n",
       "Pirates of the Caribbean: At World's End                                0.000000   \n",
       "Spectre                                                                 0.024830   \n",
       "The Dark Knight Rises                                                   0.020652   \n",
       "John Carter                                                             0.000000   \n",
       "\n",
       "                                          Batman v Superman: Dawn of Justice  \\\n",
       "Avatar                                                              0.000000   \n",
       "Pirates of the Caribbean: At World's End                            0.000000   \n",
       "Spectre                                                             0.000000   \n",
       "The Dark Knight Rises                                               0.133740   \n",
       "John Carter                                                         0.017148   \n",
       "\n",
       "                                          ...  On The Downlow  \\\n",
       "Avatar                                    ...        0.000000   \n",
       "Pirates of the Caribbean: At World's End  ...        0.000000   \n",
       "Spectre                                   ...        0.027695   \n",
       "The Dark Knight Rises                     ...        0.000000   \n",
       "John Carter                               ...        0.012730   \n",
       "\n",
       "                                          Sanctuary: Quite a Conundrum  \\\n",
       "Avatar                                                             0.0   \n",
       "Pirates of the Caribbean: At World's End                           0.0   \n",
       "Spectre                                                            0.0   \n",
       "The Dark Knight Rises                                              0.0   \n",
       "John Carter                                                        0.0   \n",
       "\n",
       "                                              Bang    Primer    Cavite  \\\n",
       "Avatar                                    0.029175  0.042176  0.000000   \n",
       "Pirates of the Caribbean: At World's End  0.006895  0.000000  0.000000   \n",
       "Spectre                                   0.000000  0.000000  0.017768   \n",
       "The Dark Knight Rises                     0.000000  0.000000  0.000000   \n",
       "John Carter                               0.000000  0.000000  0.000000   \n",
       "\n",
       "                                          El Mariachi  Newlyweds  \\\n",
       "Avatar                                            0.0        0.0   \n",
       "Pirates of the Caribbean: At World's End          0.0        0.0   \n",
       "Spectre                                           0.0        0.0   \n",
       "The Dark Knight Rises                             0.0        0.0   \n",
       "John Carter                                       0.0        0.0   \n",
       "\n",
       "                                          Signed, Sealed, Delivered  \\\n",
       "Avatar                                                     0.000000   \n",
       "Pirates of the Caribbean: At World's End                   0.021605   \n",
       "Spectre                                                    0.014882   \n",
       "The Dark Knight Rises                                      0.033864   \n",
       "John Carter                                                0.006126   \n",
       "\n",
       "                                          Shanghai Calling  My Date with Drew  \n",
       "Avatar                                            0.000000           0.000000  \n",
       "Pirates of the Caribbean: At World's End          0.000000           0.000000  \n",
       "Spectre                                           0.000000           0.000000  \n",
       "The Dark Knight Rises                             0.042752           0.022692  \n",
       "John Carter                                       0.000000           0.000000  \n",
       "\n",
       "[5 rows x 4803 columns]"
      ]
     },
     "execution_count": 26,
     "metadata": {},
     "output_type": "execute_result"
    }
   ],
   "source": [
    "cosine_df.head()"
   ]
  },
  {
   "cell_type": "markdown",
   "metadata": {},
   "source": [
    "We have a new dataframe where every movie is on the row and on the columns. We look at the intersection of any two given movies and find the similarity score to each other. You can also see that movies have a perfect similarity score with themselves."
   ]
  },
  {
   "cell_type": "code",
   "execution_count": 27,
   "metadata": {},
   "outputs": [
    {
     "data": {
      "text/plain": [
       "Avatar                                      1.000000\n",
       "Pirates of the Caribbean: At World's End    0.000000\n",
       "Spectre                                     0.000000\n",
       "The Dark Knight Rises                       0.024995\n",
       "John Carter                                 0.000000\n",
       "                                              ...   \n",
       "El Mariachi                                 0.000000\n",
       "Newlyweds                                   0.000000\n",
       "Signed, Sealed, Delivered                   0.000000\n",
       "Shanghai Calling                            0.000000\n",
       "My Date with Drew                           0.000000\n",
       "Name: Avatar, Length: 4803, dtype: float64"
      ]
     },
     "execution_count": 27,
     "metadata": {},
     "output_type": "execute_result"
    }
   ],
   "source": [
    "cosine_df.iloc[0]"
   ]
  },
  {
   "cell_type": "markdown",
   "metadata": {},
   "source": [
    "### Make Recommendations"
   ]
  },
  {
   "cell_type": "markdown",
   "metadata": {},
   "source": [
    "Using the results from cosine similarity, we can write a function that gets movies with the highest similarity score for an inputted movie."
   ]
  },
  {
   "cell_type": "code",
   "execution_count": 28,
   "metadata": {},
   "outputs": [],
   "source": [
    "movie_index = pd.Series(df.index, index = df['original_title'])\n",
    "movie_titles = df['original_title']\n",
    "\n",
    "def recommend_movie(movie):\n",
    "    # get the index of the movie\n",
    "    index = movie_index[movie]\n",
    "    # convert into a list of movie index and similarity values\n",
    "    similarity = list(enumerate(cosine_score[index]))\n",
    "    # sort list by the similarity value\n",
    "    similarity = sorted(similarity, key = lambda x: x[1], reverse = True)\n",
    "    # Get the top 10 most similar movies. Exclude the first value because it is itself.\n",
    "    similarity = similarity[1:11]\n",
    "    recommended_index = [i[0] for i in similarity] \n",
    "    recommended_title = [movie_titles[i] for i in recommended_index]\n",
    "    recommended_score = [i[1] for i in similarity]\n",
    "    return pd.DataFrame({'Recommended_Movie': recommended_title,\n",
    "                         'Score': recommended_score})\n",
    "    "
   ]
  },
  {
   "cell_type": "code",
   "execution_count": 29,
   "metadata": {},
   "outputs": [
    {
     "data": {
      "text/html": [
       "<div>\n",
       "<style scoped>\n",
       "    .dataframe tbody tr th:only-of-type {\n",
       "        vertical-align: middle;\n",
       "    }\n",
       "\n",
       "    .dataframe tbody tr th {\n",
       "        vertical-align: top;\n",
       "    }\n",
       "\n",
       "    .dataframe thead th {\n",
       "        text-align: right;\n",
       "    }\n",
       "</style>\n",
       "<table border=\"1\" class=\"dataframe\">\n",
       "  <thead>\n",
       "    <tr style=\"text-align: right;\">\n",
       "      <th></th>\n",
       "      <th>Recommended_Movie</th>\n",
       "      <th>Score</th>\n",
       "    </tr>\n",
       "  </thead>\n",
       "  <tbody>\n",
       "    <tr>\n",
       "      <th>0</th>\n",
       "      <td>Star Wars</td>\n",
       "      <td>0.422981</td>\n",
       "    </tr>\n",
       "    <tr>\n",
       "      <th>1</th>\n",
       "      <td>Return of the Jedi</td>\n",
       "      <td>0.332226</td>\n",
       "    </tr>\n",
       "    <tr>\n",
       "      <th>2</th>\n",
       "      <td>Star Wars: Episode III - Revenge of the Sith</td>\n",
       "      <td>0.218126</td>\n",
       "    </tr>\n",
       "    <tr>\n",
       "      <th>3</th>\n",
       "      <td>Decoys</td>\n",
       "      <td>0.146519</td>\n",
       "    </tr>\n",
       "    <tr>\n",
       "      <th>4</th>\n",
       "      <td>Star Wars: Episode I - The Phantom Menace</td>\n",
       "      <td>0.113766</td>\n",
       "    </tr>\n",
       "    <tr>\n",
       "      <th>5</th>\n",
       "      <td>Sardaarji</td>\n",
       "      <td>0.085509</td>\n",
       "    </tr>\n",
       "    <tr>\n",
       "      <th>6</th>\n",
       "      <td>Star Wars: Episode II - Attack of the Clones</td>\n",
       "      <td>0.082092</td>\n",
       "    </tr>\n",
       "    <tr>\n",
       "      <th>7</th>\n",
       "      <td>The Loss of Sexual Innocence</td>\n",
       "      <td>0.079202</td>\n",
       "    </tr>\n",
       "    <tr>\n",
       "      <th>8</th>\n",
       "      <td>United Passions</td>\n",
       "      <td>0.079029</td>\n",
       "    </tr>\n",
       "    <tr>\n",
       "      <th>9</th>\n",
       "      <td>Star Wars: Clone Wars (Volume 1)</td>\n",
       "      <td>0.077902</td>\n",
       "    </tr>\n",
       "  </tbody>\n",
       "</table>\n",
       "</div>"
      ],
      "text/plain": [
       "                              Recommended_Movie     Score\n",
       "0                                     Star Wars  0.422981\n",
       "1                            Return of the Jedi  0.332226\n",
       "2  Star Wars: Episode III - Revenge of the Sith  0.218126\n",
       "3                                        Decoys  0.146519\n",
       "4     Star Wars: Episode I - The Phantom Menace  0.113766\n",
       "5                                     Sardaarji  0.085509\n",
       "6  Star Wars: Episode II - Attack of the Clones  0.082092\n",
       "7                  The Loss of Sexual Innocence  0.079202\n",
       "8                               United Passions  0.079029\n",
       "9              Star Wars: Clone Wars (Volume 1)  0.077902"
      ]
     },
     "execution_count": 29,
     "metadata": {},
     "output_type": "execute_result"
    }
   ],
   "source": [
    "recommend_movie('The Empire Strikes Back')"
   ]
  },
  {
   "cell_type": "markdown",
   "metadata": {},
   "source": [
    "Using the overview feature, we get movies that have a similar overview to the movie we wanted recommendations for. For example, we wanted recommendations for “The Empire Strikes Back” and we got several other Star Wars movies returned. \n",
    "\n",
    "The issue with strictly using the overview is that that take into consideration other factors that contribute to someone liking a movie. What if someone liked a certain genre of movies or movies directed by a certain director? In the next section we will take those features into account when making recommendations."
   ]
  },
  {
   "cell_type": "markdown",
   "metadata": {},
   "source": [
    "### Recommendations Using Movies Features"
   ]
  },
  {
   "cell_type": "markdown",
   "metadata": {},
   "source": [
    "Our approach to making recommendations using features will be very similar to what we did for making recommendations using the overview. We will combine the features *genres, keywords, cast*, and *crew* into one sequence of text (almost acting like a short description) for each movie, convert each text into a matrix of vectors, and then compute a similarity score."
   ]
  },
  {
   "cell_type": "code",
   "execution_count": 30,
   "metadata": {},
   "outputs": [
    {
     "data": {
      "text/plain": [
       "budget                                                          237000000\n",
       "genres                  [{\"id\": 28, \"name\": \"Action\"}, {\"id\": 12, \"nam...\n",
       "homepage                                      http://www.avatarmovie.com/\n",
       "id                                                                  19995\n",
       "keywords                [{\"id\": 1463, \"name\": \"culture clash\"}, {\"id\":...\n",
       "original_language                                                      en\n",
       "original_title                                                     Avatar\n",
       "overview                In the 22nd century, a paraplegic Marine is di...\n",
       "popularity                                                     150.437577\n",
       "production_companies    [{\"name\": \"Ingenious Film Partners\", \"id\": 289...\n",
       "production_countries    [{\"iso_3166_1\": \"US\", \"name\": \"United States o...\n",
       "release_date                                          2009-12-10 00:00:00\n",
       "revenue                                                        2787965087\n",
       "runtime                                                             162.0\n",
       "spoken_languages        [{\"iso_639_1\": \"en\", \"name\": \"English\"}, {\"iso...\n",
       "status                                                           Released\n",
       "tagline                                       Enter the World of Pandora.\n",
       "title_x                                                            Avatar\n",
       "vote_average                                                          7.2\n",
       "vote_count                                                          11800\n",
       "title_y                                                            Avatar\n",
       "cast                    [{\"cast_id\": 242, \"character\": \"Jake Sully\", \"...\n",
       "crew                    [{\"credit_id\": \"52fe48009251416c750aca23\", \"de...\n",
       "Name: 0, dtype: object"
      ]
     },
     "execution_count": 30,
     "metadata": {},
     "output_type": "execute_result"
    }
   ],
   "source": [
    "df.iloc[0]"
   ]
  },
  {
   "cell_type": "markdown",
   "metadata": {},
   "source": [
    "The following columns in the dataset contain lists of dictionaries as their values: *genres, keywords, production_companies, production_countries, spoken_languages, cast, crew*. \n",
    "\n",
    "We will extract the important medadata from these dictionaries and have the values in a list. \n",
    "\n",
    "For example, for the genre column we want the final output to look like this: [action, comedy].\n",
    "\n",
    "We will define a couple of helper functions that will extract the necessary metadata for our dataset columns\n",
    "\n",
    "First lets take a look at the different dictionaries and which key value we need to extract.\n",
    "\n",
    "* **genres** - name\n",
    "* **keywords** - name\n",
    "* **production_companies** - name\n",
    "* **production_countries** - name\n",
    "* **spoken_languages** - name\n",
    "* **cast** - name\n",
    "* **crew** - find \"job\": \"Director\" and get name value\n",
    "\n",
    "We can write a function that takes all the values from the *name* key. However, as we can see from the above output, there are a lot of values for some of the features such as *cast* and *crew*. We do not want to include all those features as we will have a super high-dimension matrix that will be very sparse aswell. \n",
    "\n",
    "For cast we can just take the top N values because usually the people with the most screentime are listed first on the cast lists.\n",
    "\n",
    "For crew we will just fetch the Director of the movie.\n"
   ]
  },
  {
   "cell_type": "code",
   "execution_count": 31,
   "metadata": {},
   "outputs": [
    {
     "name": "stdout",
     "output_type": "stream",
     "text": [
      "[{\"id\": 28, \"name\": \"Action\"}, {\"id\": 12, \"name\": \"Adventure\"}, {\"id\": 14, \"name\": \"Fantasy\"}, {\"id\": 878, \"name\": \"Science Fiction\"}]\n",
      "\n",
      "[\n"
     ]
    }
   ],
   "source": [
    "print(df['genres'].iloc[0])\n",
    "print(\"\")\n",
    "print(df['genres'].iloc[0][0]) # First element of first movie genres dictionary"
   ]
  },
  {
   "cell_type": "code",
   "execution_count": 32,
   "metadata": {},
   "outputs": [
    {
     "name": "stdout",
     "output_type": "stream",
     "text": [
      "{'id': 28, 'name': 'Action'}\n"
     ]
    }
   ],
   "source": [
    "# Convert strings into actual list objects\n",
    "\n",
    "dict_features = ['genres', 'keywords', 'cast','crew']\n",
    "\n",
    "for feature in dict_features:\n",
    "    df[feature] = df[feature].apply(literal_eval)\n",
    "\n",
    "print(df['genres'].iloc[0][0])"
   ]
  },
  {
   "cell_type": "code",
   "execution_count": 33,
   "metadata": {},
   "outputs": [],
   "source": [
    "def get_director(crew_column):\n",
    "    for i in crew_column:\n",
    "        if i['job'] == 'Director':\n",
    "            meta_data = i['name']\n",
    "            return [meta_data]\n",
    "    return []\n",
    "\n",
    "def extract_metadata(dict_column):\n",
    "    \n",
    "    if isinstance(dict_column, list):        \n",
    "        metadata = [i['name'] for i in dict_column]\n",
    "        return metadata\n",
    "    return []"
   ]
  },
  {
   "cell_type": "code",
   "execution_count": 34,
   "metadata": {},
   "outputs": [],
   "source": [
    "df[dict_features[-1]] = df[dict_features[-1]].apply(get_director)\n",
    "\n",
    "for feature in dict_features[:3]:\n",
    "    df[feature] = df[feature].apply(extract_metadata)\n",
    "\n",
    "df['cast'] = df['cast'].apply(lambda x: x[:3] if len(x) >= 3 else x)\n"
   ]
  },
  {
   "cell_type": "markdown",
   "metadata": {},
   "source": [
    "### Preprocessing"
   ]
  },
  {
   "cell_type": "markdown",
   "metadata": {},
   "source": [
    "#### Cast and Crew"
   ]
  },
  {
   "cell_type": "markdown",
   "metadata": {},
   "source": [
    "For the cast and crew column, we are going to remove the spaces between the first and last names to make it into one big string. This is to avoid mistaking people with the same first name as the same actor."
   ]
  },
  {
   "cell_type": "code",
   "execution_count": 35,
   "metadata": {},
   "outputs": [
    {
     "data": {
      "text/html": [
       "<div>\n",
       "<style scoped>\n",
       "    .dataframe tbody tr th:only-of-type {\n",
       "        vertical-align: middle;\n",
       "    }\n",
       "\n",
       "    .dataframe tbody tr th {\n",
       "        vertical-align: top;\n",
       "    }\n",
       "\n",
       "    .dataframe thead th {\n",
       "        text-align: right;\n",
       "    }\n",
       "</style>\n",
       "<table border=\"1\" class=\"dataframe\">\n",
       "  <thead>\n",
       "    <tr style=\"text-align: right;\">\n",
       "      <th></th>\n",
       "      <th>genres</th>\n",
       "      <th>keywords</th>\n",
       "      <th>cast</th>\n",
       "      <th>crew</th>\n",
       "    </tr>\n",
       "  </thead>\n",
       "  <tbody>\n",
       "    <tr>\n",
       "      <th>0</th>\n",
       "      <td>[action, adventure, fantasy, sciencefiction]</td>\n",
       "      <td>[culture clash, future, space war, space colon...</td>\n",
       "      <td>[samworthington, zoesaldana, sigourneyweaver]</td>\n",
       "      <td>[jamescameron]</td>\n",
       "    </tr>\n",
       "    <tr>\n",
       "      <th>1</th>\n",
       "      <td>[adventure, fantasy, action]</td>\n",
       "      <td>[ocean, drug abuse, exotic island, east india ...</td>\n",
       "      <td>[johnnydepp, orlandobloom, keiraknightley]</td>\n",
       "      <td>[goreverbinski]</td>\n",
       "    </tr>\n",
       "    <tr>\n",
       "      <th>2</th>\n",
       "      <td>[action, adventure, crime]</td>\n",
       "      <td>[spy, based on novel, secret agent, sequel, mi...</td>\n",
       "      <td>[danielcraig, christophwaltz, léaseydoux]</td>\n",
       "      <td>[sammendes]</td>\n",
       "    </tr>\n",
       "  </tbody>\n",
       "</table>\n",
       "</div>"
      ],
      "text/plain": [
       "                                         genres  \\\n",
       "0  [action, adventure, fantasy, sciencefiction]   \n",
       "1                  [adventure, fantasy, action]   \n",
       "2                    [action, adventure, crime]   \n",
       "\n",
       "                                            keywords  \\\n",
       "0  [culture clash, future, space war, space colon...   \n",
       "1  [ocean, drug abuse, exotic island, east india ...   \n",
       "2  [spy, based on novel, secret agent, sequel, mi...   \n",
       "\n",
       "                                            cast             crew  \n",
       "0  [samworthington, zoesaldana, sigourneyweaver]   [jamescameron]  \n",
       "1     [johnnydepp, orlandobloom, keiraknightley]  [goreverbinski]  \n",
       "2      [danielcraig, christophwaltz, léaseydoux]      [sammendes]  "
      ]
     },
     "execution_count": 35,
     "metadata": {},
     "output_type": "execute_result"
    }
   ],
   "source": [
    "# For the cast and crew columns\n",
    "df['cast'] = df['cast'].apply(lambda x: [str.lower(i.replace(\" \",\"\")) for i in x])\n",
    "df['crew'] = df['crew'].apply(lambda x: [str.lower(i.replace(\" \",\"\")) for i in x])\n",
    "df['genres'] = df['genres'].apply(lambda x: [str.lower(i.replace(\" \", \"\")) for i in x])\n",
    "\n",
    "df[['genres', 'keywords', 'cast', 'crew']].head(3)"
   ]
  },
  {
   "cell_type": "markdown",
   "metadata": {},
   "source": [
    "#### Keywords"
   ]
  },
  {
   "cell_type": "markdown",
   "metadata": {},
   "source": [
    "We want to filter some of the keywords. Some keywords are only used once to describe one movie and this will not very helpful if no other movies use those keywords. We will filter the keywords using only words that appear more than once"
   ]
  },
  {
   "cell_type": "code",
   "execution_count": 36,
   "metadata": {},
   "outputs": [
    {
     "data": {
      "text/plain": [
       "woman director          324\n",
       "independent film        318\n",
       "duringcreditsstinger    307\n",
       "based on novel          197\n",
       "murder                  189\n",
       "                       ... \n",
       "kronos                    1\n",
       "cultural revolution       1\n",
       "reeducation camp          1\n",
       "manchuria                 1\n",
       "postal worker             1\n",
       "Name: keywords, Length: 9813, dtype: int64"
      ]
     },
     "execution_count": 36,
     "metadata": {},
     "output_type": "execute_result"
    }
   ],
   "source": [
    "df.keywords.explode().dropna().value_counts()"
   ]
  },
  {
   "cell_type": "markdown",
   "metadata": {},
   "source": [
    "Key words/phrases that only appear once will not be helpful for making recommendations so we can filter those out"
   ]
  },
  {
   "cell_type": "code",
   "execution_count": 37,
   "metadata": {},
   "outputs": [
    {
     "data": {
      "text/plain": [
       "woman director          324\n",
       "independent film        318\n",
       "duringcreditsstinger    307\n",
       "based on novel          197\n",
       "murder                  189\n",
       "                       ... \n",
       "galactic war              2\n",
       "mole                      2\n",
       "impregnation              2\n",
       "plot                      2\n",
       "asgard                    2\n",
       "Name: keyword, Length: 4502, dtype: int64"
      ]
     },
     "execution_count": 37,
     "metadata": {},
     "output_type": "execute_result"
    }
   ],
   "source": [
    "words = df.keywords.explode().dropna()\n",
    "words.name = 'keyword'\n",
    "words = words.value_counts()\n",
    "words = words[words > 1]\n",
    "words"
   ]
  },
  {
   "cell_type": "code",
   "execution_count": 38,
   "metadata": {},
   "outputs": [],
   "source": [
    "# helper functions for preprocessing this meta data.\n",
    "\n",
    "def top_keywords_words(keywords):\n",
    "    list_of_words = []\n",
    "    for i in keywords:\n",
    "        if i in words:\n",
    "            list_of_words.append(i)\n",
    "    return list_of_words\n",
    "\n",
    "df['keywords'] = df['keywords'].apply(top_keywords_words)"
   ]
  },
  {
   "cell_type": "markdown",
   "metadata": {},
   "source": [
    "#### Stemming\n",
    "\n",
    "Stemming is a text processing method that reduces words to their root words. For example if we had the word *baked* in our text, it would be reduced to *bake*. This is used to reduce the feature space of our dataset. Additionally, it'll words such as *baked* and *bake* as one word as oppose to two different words even though they mean the same thing context-wise."
   ]
  },
  {
   "cell_type": "code",
   "execution_count": 39,
   "metadata": {},
   "outputs": [],
   "source": [
    "stemmer = SnowballStemmer('english')\n",
    "\n",
    "df['keywords'] = df['keywords'].apply(lambda x: [stemmer.stem(i) for i in x])\n",
    "df['keywords'] = df['keywords'].apply(lambda x: [str.lower(i.replace(\" \", \"\")) for i in x])"
   ]
  },
  {
   "cell_type": "markdown",
   "metadata": {},
   "source": [
    "#### Combining Features\n",
    "\n",
    "We will combine the features *genres, keywords, cast*, and *crew* into one sequence of text (almost acting like a short description) for each movie, convert each text into a matrix of vectors, and then compute a similarity score."
   ]
  },
  {
   "cell_type": "code",
   "execution_count": 40,
   "metadata": {},
   "outputs": [
    {
     "data": {
      "text/plain": [
       "'action adventure fantasy sciencefiction cultureclash futur spacewar spacecoloni societi spacetravel futurist romanc space alien tribe alienplanet cgi marin soldier battl loveaffair antiwar powerrel mindandsoul 3d samworthington zoesaldana sigourneyweaver jamescameron'"
      ]
     },
     "execution_count": 40,
     "metadata": {},
     "output_type": "execute_result"
    }
   ],
   "source": [
    "df['combine'] = df['genres'] + df['keywords'] + df['cast'] + df['crew']\n",
    "df['combine'] = df['combine'].apply(lambda x: ' '.join(x))\n",
    "df['combine'].iloc[0]"
   ]
  },
  {
   "cell_type": "markdown",
   "metadata": {},
   "source": [
    "### Count Vectorizer\n",
    "\n",
    "CountVectorizer is a method used to convert text data into numerical values that we can use for different machine-learning applications. It transforms our movie text into a matrix where the rows represent the text from one movie, and the columns represent each unique word from all the different movie texts. The value for each cell in the matrix is just a count of how many times a word appears in a movie text."
   ]
  },
  {
   "cell_type": "code",
   "execution_count": 41,
   "metadata": {},
   "outputs": [
    {
     "data": {
      "text/plain": [
       "(4803, 12457)"
      ]
     },
     "execution_count": 41,
     "metadata": {},
     "output_type": "execute_result"
    }
   ],
   "source": [
    "count_vect = CountVectorizer(analyzer = 'word', stop_words = 'english')\n",
    "count_matrix = count_vect.fit_transform(df['combine'])\n",
    "count_matrix.shape"
   ]
  },
  {
   "cell_type": "markdown",
   "metadata": {},
   "source": [
    "From our movie feature text, we get the following results after CountVectorizer:"
   ]
  },
  {
   "cell_type": "code",
   "execution_count": 42,
   "metadata": {},
   "outputs": [
    {
     "name": "stdout",
     "output_type": "stream",
     "text": [
      "[[0 0 0 ... 0 0 0]\n",
      " [0 0 0 ... 0 0 0]\n",
      " [0 0 0 ... 0 0 0]\n",
      " ...\n",
      " [0 0 0 ... 0 0 0]\n",
      " [0 0 0 ... 0 0 0]\n",
      " [0 0 0 ... 0 0 0]]\n"
     ]
    }
   ],
   "source": [
    "word_set = count_vect.get_feature_names()\n",
    "count_array = count_matrix.toarray()\n",
    "print(count_array)"
   ]
  },
  {
   "cell_type": "code",
   "execution_count": 43,
   "metadata": {},
   "outputs": [
    {
     "data": {
      "text/html": [
       "<div>\n",
       "<style scoped>\n",
       "    .dataframe tbody tr th:only-of-type {\n",
       "        vertical-align: middle;\n",
       "    }\n",
       "\n",
       "    .dataframe tbody tr th {\n",
       "        vertical-align: top;\n",
       "    }\n",
       "\n",
       "    .dataframe thead th {\n",
       "        text-align: right;\n",
       "    }\n",
       "</style>\n",
       "<table border=\"1\" class=\"dataframe\">\n",
       "  <thead>\n",
       "    <tr style=\"text-align: right;\">\n",
       "      <th></th>\n",
       "      <th>11</th>\n",
       "      <th>15thcenturi</th>\n",
       "      <th>16thcenturi</th>\n",
       "      <th>17thcenturi</th>\n",
       "      <th>18thcenturi</th>\n",
       "      <th>1910s</th>\n",
       "      <th>1930s</th>\n",
       "      <th>1940s</th>\n",
       "      <th>1950s</th>\n",
       "      <th>1960s</th>\n",
       "      <th>...</th>\n",
       "      <th>àlexpastor</th>\n",
       "      <th>álexdelaiglesia</th>\n",
       "      <th>émilegaudreault</th>\n",
       "      <th>émiliedequenne</th>\n",
       "      <th>érictessier</th>\n",
       "      <th>étiennefaure</th>\n",
       "      <th>óscarjaenada</th>\n",
       "      <th>đỗthịhảiyến</th>\n",
       "      <th>špelacolja</th>\n",
       "      <th>юлияснигирь</th>\n",
       "    </tr>\n",
       "  </thead>\n",
       "  <tbody>\n",
       "    <tr>\n",
       "      <th>0</th>\n",
       "      <td>0</td>\n",
       "      <td>0</td>\n",
       "      <td>0</td>\n",
       "      <td>0</td>\n",
       "      <td>0</td>\n",
       "      <td>0</td>\n",
       "      <td>0</td>\n",
       "      <td>0</td>\n",
       "      <td>0</td>\n",
       "      <td>0</td>\n",
       "      <td>...</td>\n",
       "      <td>0</td>\n",
       "      <td>0</td>\n",
       "      <td>0</td>\n",
       "      <td>0</td>\n",
       "      <td>0</td>\n",
       "      <td>0</td>\n",
       "      <td>0</td>\n",
       "      <td>0</td>\n",
       "      <td>0</td>\n",
       "      <td>0</td>\n",
       "    </tr>\n",
       "    <tr>\n",
       "      <th>1</th>\n",
       "      <td>0</td>\n",
       "      <td>0</td>\n",
       "      <td>0</td>\n",
       "      <td>0</td>\n",
       "      <td>0</td>\n",
       "      <td>0</td>\n",
       "      <td>0</td>\n",
       "      <td>0</td>\n",
       "      <td>0</td>\n",
       "      <td>0</td>\n",
       "      <td>...</td>\n",
       "      <td>0</td>\n",
       "      <td>0</td>\n",
       "      <td>0</td>\n",
       "      <td>0</td>\n",
       "      <td>0</td>\n",
       "      <td>0</td>\n",
       "      <td>0</td>\n",
       "      <td>0</td>\n",
       "      <td>0</td>\n",
       "      <td>0</td>\n",
       "    </tr>\n",
       "    <tr>\n",
       "      <th>2</th>\n",
       "      <td>0</td>\n",
       "      <td>0</td>\n",
       "      <td>0</td>\n",
       "      <td>0</td>\n",
       "      <td>0</td>\n",
       "      <td>0</td>\n",
       "      <td>0</td>\n",
       "      <td>0</td>\n",
       "      <td>0</td>\n",
       "      <td>0</td>\n",
       "      <td>...</td>\n",
       "      <td>0</td>\n",
       "      <td>0</td>\n",
       "      <td>0</td>\n",
       "      <td>0</td>\n",
       "      <td>0</td>\n",
       "      <td>0</td>\n",
       "      <td>0</td>\n",
       "      <td>0</td>\n",
       "      <td>0</td>\n",
       "      <td>0</td>\n",
       "    </tr>\n",
       "    <tr>\n",
       "      <th>3</th>\n",
       "      <td>0</td>\n",
       "      <td>0</td>\n",
       "      <td>0</td>\n",
       "      <td>0</td>\n",
       "      <td>0</td>\n",
       "      <td>0</td>\n",
       "      <td>0</td>\n",
       "      <td>0</td>\n",
       "      <td>0</td>\n",
       "      <td>0</td>\n",
       "      <td>...</td>\n",
       "      <td>0</td>\n",
       "      <td>0</td>\n",
       "      <td>0</td>\n",
       "      <td>0</td>\n",
       "      <td>0</td>\n",
       "      <td>0</td>\n",
       "      <td>0</td>\n",
       "      <td>0</td>\n",
       "      <td>0</td>\n",
       "      <td>0</td>\n",
       "    </tr>\n",
       "    <tr>\n",
       "      <th>4</th>\n",
       "      <td>0</td>\n",
       "      <td>0</td>\n",
       "      <td>0</td>\n",
       "      <td>0</td>\n",
       "      <td>0</td>\n",
       "      <td>0</td>\n",
       "      <td>0</td>\n",
       "      <td>0</td>\n",
       "      <td>0</td>\n",
       "      <td>0</td>\n",
       "      <td>...</td>\n",
       "      <td>0</td>\n",
       "      <td>0</td>\n",
       "      <td>0</td>\n",
       "      <td>0</td>\n",
       "      <td>0</td>\n",
       "      <td>0</td>\n",
       "      <td>0</td>\n",
       "      <td>0</td>\n",
       "      <td>0</td>\n",
       "      <td>0</td>\n",
       "    </tr>\n",
       "  </tbody>\n",
       "</table>\n",
       "<p>5 rows × 12457 columns</p>\n",
       "</div>"
      ],
      "text/plain": [
       "   11  15thcenturi  16thcenturi  17thcenturi  18thcenturi  1910s  1930s  \\\n",
       "0   0            0            0            0            0      0      0   \n",
       "1   0            0            0            0            0      0      0   \n",
       "2   0            0            0            0            0      0      0   \n",
       "3   0            0            0            0            0      0      0   \n",
       "4   0            0            0            0            0      0      0   \n",
       "\n",
       "   1940s  1950s  1960s  ...  àlexpastor  álexdelaiglesia  émilegaudreault  \\\n",
       "0      0      0      0  ...           0                0                0   \n",
       "1      0      0      0  ...           0                0                0   \n",
       "2      0      0      0  ...           0                0                0   \n",
       "3      0      0      0  ...           0                0                0   \n",
       "4      0      0      0  ...           0                0                0   \n",
       "\n",
       "   émiliedequenne  érictessier  étiennefaure  óscarjaenada  đỗthịhảiyến  \\\n",
       "0               0            0             0             0            0   \n",
       "1               0            0             0             0            0   \n",
       "2               0            0             0             0            0   \n",
       "3               0            0             0             0            0   \n",
       "4               0            0             0             0            0   \n",
       "\n",
       "   špelacolja  юлияснигирь  \n",
       "0           0            0  \n",
       "1           0            0  \n",
       "2           0            0  \n",
       "3           0            0  \n",
       "4           0            0  \n",
       "\n",
       "[5 rows x 12457 columns]"
      ]
     },
     "execution_count": 43,
     "metadata": {},
     "output_type": "execute_result"
    }
   ],
   "source": [
    "df_count = pd.DataFrame(count_array, columns = word_set)\n",
    "df_count.head()"
   ]
  },
  {
   "cell_type": "markdown",
   "metadata": {},
   "source": [
    "### Cosine Similarity\n",
    "\n",
    "The result after computing the cosine similarity yields the same results as the previous recommender using overview: an N x N matrix where N is the number of movies."
   ]
  },
  {
   "cell_type": "code",
   "execution_count": 44,
   "metadata": {},
   "outputs": [
    {
     "data": {
      "text/plain": [
       "array([[1.        , 0.11371471, 0.09925833, ..., 0.        , 0.        ,\n",
       "        0.        ],\n",
       "       [0.11371471, 1.        , 0.10910895, ..., 0.        , 0.        ,\n",
       "        0.        ],\n",
       "       [0.09925833, 0.10910895, 1.        , ..., 0.        , 0.        ,\n",
       "        0.        ],\n",
       "       ...,\n",
       "       [0.        , 0.        , 0.        , ..., 1.        , 0.        ,\n",
       "        0.        ],\n",
       "       [0.        , 0.        , 0.        , ..., 0.        , 1.        ,\n",
       "        0.        ],\n",
       "       [0.        , 0.        , 0.        , ..., 0.        , 0.        ,\n",
       "        1.        ]])"
      ]
     },
     "execution_count": 44,
     "metadata": {},
     "output_type": "execute_result"
    }
   ],
   "source": [
    "cosine_score = cosine_similarity(count_matrix, count_matrix)\n",
    "cosine_score"
   ]
  },
  {
   "cell_type": "code",
   "execution_count": 45,
   "metadata": {},
   "outputs": [
    {
     "data": {
      "text/html": [
       "<div>\n",
       "<style scoped>\n",
       "    .dataframe tbody tr th:only-of-type {\n",
       "        vertical-align: middle;\n",
       "    }\n",
       "\n",
       "    .dataframe tbody tr th {\n",
       "        vertical-align: top;\n",
       "    }\n",
       "\n",
       "    .dataframe thead th {\n",
       "        text-align: right;\n",
       "    }\n",
       "</style>\n",
       "<table border=\"1\" class=\"dataframe\">\n",
       "  <thead>\n",
       "    <tr style=\"text-align: right;\">\n",
       "      <th></th>\n",
       "      <th>Avatar</th>\n",
       "      <th>Pirates of the Caribbean: At World's End</th>\n",
       "      <th>Spectre</th>\n",
       "      <th>The Dark Knight Rises</th>\n",
       "      <th>John Carter</th>\n",
       "      <th>Spider-Man 3</th>\n",
       "      <th>Tangled</th>\n",
       "      <th>Avengers: Age of Ultron</th>\n",
       "      <th>Harry Potter and the Half-Blood Prince</th>\n",
       "      <th>Batman v Superman: Dawn of Justice</th>\n",
       "      <th>...</th>\n",
       "      <th>On The Downlow</th>\n",
       "      <th>Sanctuary: Quite a Conundrum</th>\n",
       "      <th>Bang</th>\n",
       "      <th>Primer</th>\n",
       "      <th>Cavite</th>\n",
       "      <th>El Mariachi</th>\n",
       "      <th>Newlyweds</th>\n",
       "      <th>Signed, Sealed, Delivered</th>\n",
       "      <th>Shanghai Calling</th>\n",
       "      <th>My Date with Drew</th>\n",
       "    </tr>\n",
       "  </thead>\n",
       "  <tbody>\n",
       "    <tr>\n",
       "      <th>Avatar</th>\n",
       "      <td>1.000000</td>\n",
       "      <td>0.113715</td>\n",
       "      <td>0.099258</td>\n",
       "      <td>0.035093</td>\n",
       "      <td>0.243132</td>\n",
       "      <td>0.121566</td>\n",
       "      <td>0.000000</td>\n",
       "      <td>0.185695</td>\n",
       "      <td>0.099258</td>\n",
       "      <td>0.148888</td>\n",
       "      <td>...</td>\n",
       "      <td>0.000000</td>\n",
       "      <td>0.000000</td>\n",
       "      <td>0.000000</td>\n",
       "      <td>0.043769</td>\n",
       "      <td>0.000000</td>\n",
       "      <td>0.058722</td>\n",
       "      <td>0.0</td>\n",
       "      <td>0.000000</td>\n",
       "      <td>0.0</td>\n",
       "      <td>0.0</td>\n",
       "    </tr>\n",
       "    <tr>\n",
       "      <th>Pirates of the Caribbean: At World's End</th>\n",
       "      <td>0.113715</td>\n",
       "      <td>1.000000</td>\n",
       "      <td>0.109109</td>\n",
       "      <td>0.038576</td>\n",
       "      <td>0.089087</td>\n",
       "      <td>0.222718</td>\n",
       "      <td>0.000000</td>\n",
       "      <td>0.102062</td>\n",
       "      <td>0.109109</td>\n",
       "      <td>0.163663</td>\n",
       "      <td>...</td>\n",
       "      <td>0.000000</td>\n",
       "      <td>0.000000</td>\n",
       "      <td>0.000000</td>\n",
       "      <td>0.000000</td>\n",
       "      <td>0.000000</td>\n",
       "      <td>0.064550</td>\n",
       "      <td>0.0</td>\n",
       "      <td>0.000000</td>\n",
       "      <td>0.0</td>\n",
       "      <td>0.0</td>\n",
       "    </tr>\n",
       "    <tr>\n",
       "      <th>Spectre</th>\n",
       "      <td>0.099258</td>\n",
       "      <td>0.109109</td>\n",
       "      <td>1.000000</td>\n",
       "      <td>0.101015</td>\n",
       "      <td>0.174964</td>\n",
       "      <td>0.174964</td>\n",
       "      <td>0.000000</td>\n",
       "      <td>0.200446</td>\n",
       "      <td>0.071429</td>\n",
       "      <td>0.142857</td>\n",
       "      <td>...</td>\n",
       "      <td>0.000000</td>\n",
       "      <td>0.000000</td>\n",
       "      <td>0.000000</td>\n",
       "      <td>0.000000</td>\n",
       "      <td>0.000000</td>\n",
       "      <td>0.169031</td>\n",
       "      <td>0.0</td>\n",
       "      <td>0.000000</td>\n",
       "      <td>0.0</td>\n",
       "      <td>0.0</td>\n",
       "    </tr>\n",
       "    <tr>\n",
       "      <th>The Dark Knight Rises</th>\n",
       "      <td>0.035093</td>\n",
       "      <td>0.038576</td>\n",
       "      <td>0.101015</td>\n",
       "      <td>1.000000</td>\n",
       "      <td>0.041239</td>\n",
       "      <td>0.082479</td>\n",
       "      <td>0.000000</td>\n",
       "      <td>0.094491</td>\n",
       "      <td>0.000000</td>\n",
       "      <td>0.202031</td>\n",
       "      <td>...</td>\n",
       "      <td>0.052414</td>\n",
       "      <td>0.066815</td>\n",
       "      <td>0.059761</td>\n",
       "      <td>0.089087</td>\n",
       "      <td>0.109109</td>\n",
       "      <td>0.179284</td>\n",
       "      <td>0.0</td>\n",
       "      <td>0.052414</td>\n",
       "      <td>0.0</td>\n",
       "      <td>0.0</td>\n",
       "    </tr>\n",
       "    <tr>\n",
       "      <th>John Carter</th>\n",
       "      <td>0.243132</td>\n",
       "      <td>0.089087</td>\n",
       "      <td>0.174964</td>\n",
       "      <td>0.041239</td>\n",
       "      <td>1.000000</td>\n",
       "      <td>0.095238</td>\n",
       "      <td>0.051434</td>\n",
       "      <td>0.218218</td>\n",
       "      <td>0.058321</td>\n",
       "      <td>0.116642</td>\n",
       "      <td>...</td>\n",
       "      <td>0.000000</td>\n",
       "      <td>0.000000</td>\n",
       "      <td>0.000000</td>\n",
       "      <td>0.051434</td>\n",
       "      <td>0.000000</td>\n",
       "      <td>0.069007</td>\n",
       "      <td>0.0</td>\n",
       "      <td>0.000000</td>\n",
       "      <td>0.0</td>\n",
       "      <td>0.0</td>\n",
       "    </tr>\n",
       "  </tbody>\n",
       "</table>\n",
       "<p>5 rows × 4803 columns</p>\n",
       "</div>"
      ],
      "text/plain": [
       "                                            Avatar  \\\n",
       "Avatar                                    1.000000   \n",
       "Pirates of the Caribbean: At World's End  0.113715   \n",
       "Spectre                                   0.099258   \n",
       "The Dark Knight Rises                     0.035093   \n",
       "John Carter                               0.243132   \n",
       "\n",
       "                                          Pirates of the Caribbean: At World's End  \\\n",
       "Avatar                                                                    0.113715   \n",
       "Pirates of the Caribbean: At World's End                                  1.000000   \n",
       "Spectre                                                                   0.109109   \n",
       "The Dark Knight Rises                                                     0.038576   \n",
       "John Carter                                                               0.089087   \n",
       "\n",
       "                                           Spectre  The Dark Knight Rises  \\\n",
       "Avatar                                    0.099258               0.035093   \n",
       "Pirates of the Caribbean: At World's End  0.109109               0.038576   \n",
       "Spectre                                   1.000000               0.101015   \n",
       "The Dark Knight Rises                     0.101015               1.000000   \n",
       "John Carter                               0.174964               0.041239   \n",
       "\n",
       "                                          John Carter  Spider-Man 3   Tangled  \\\n",
       "Avatar                                       0.243132      0.121566  0.000000   \n",
       "Pirates of the Caribbean: At World's End     0.089087      0.222718  0.000000   \n",
       "Spectre                                      0.174964      0.174964  0.000000   \n",
       "The Dark Knight Rises                        0.041239      0.082479  0.000000   \n",
       "John Carter                                  1.000000      0.095238  0.051434   \n",
       "\n",
       "                                          Avengers: Age of Ultron  \\\n",
       "Avatar                                                   0.185695   \n",
       "Pirates of the Caribbean: At World's End                 0.102062   \n",
       "Spectre                                                  0.200446   \n",
       "The Dark Knight Rises                                    0.094491   \n",
       "John Carter                                              0.218218   \n",
       "\n",
       "                                          Harry Potter and the Half-Blood Prince  \\\n",
       "Avatar                                                                  0.099258   \n",
       "Pirates of the Caribbean: At World's End                                0.109109   \n",
       "Spectre                                                                 0.071429   \n",
       "The Dark Knight Rises                                                   0.000000   \n",
       "John Carter                                                             0.058321   \n",
       "\n",
       "                                          Batman v Superman: Dawn of Justice  \\\n",
       "Avatar                                                              0.148888   \n",
       "Pirates of the Caribbean: At World's End                            0.163663   \n",
       "Spectre                                                             0.142857   \n",
       "The Dark Knight Rises                                               0.202031   \n",
       "John Carter                                                         0.116642   \n",
       "\n",
       "                                          ...  On The Downlow  \\\n",
       "Avatar                                    ...        0.000000   \n",
       "Pirates of the Caribbean: At World's End  ...        0.000000   \n",
       "Spectre                                   ...        0.000000   \n",
       "The Dark Knight Rises                     ...        0.052414   \n",
       "John Carter                               ...        0.000000   \n",
       "\n",
       "                                          Sanctuary: Quite a Conundrum  \\\n",
       "Avatar                                                        0.000000   \n",
       "Pirates of the Caribbean: At World's End                      0.000000   \n",
       "Spectre                                                       0.000000   \n",
       "The Dark Knight Rises                                         0.066815   \n",
       "John Carter                                                   0.000000   \n",
       "\n",
       "                                              Bang    Primer    Cavite  \\\n",
       "Avatar                                    0.000000  0.043769  0.000000   \n",
       "Pirates of the Caribbean: At World's End  0.000000  0.000000  0.000000   \n",
       "Spectre                                   0.000000  0.000000  0.000000   \n",
       "The Dark Knight Rises                     0.059761  0.089087  0.109109   \n",
       "John Carter                               0.000000  0.051434  0.000000   \n",
       "\n",
       "                                          El Mariachi  Newlyweds  \\\n",
       "Avatar                                       0.058722        0.0   \n",
       "Pirates of the Caribbean: At World's End     0.064550        0.0   \n",
       "Spectre                                      0.169031        0.0   \n",
       "The Dark Knight Rises                        0.179284        0.0   \n",
       "John Carter                                  0.069007        0.0   \n",
       "\n",
       "                                          Signed, Sealed, Delivered  \\\n",
       "Avatar                                                     0.000000   \n",
       "Pirates of the Caribbean: At World's End                   0.000000   \n",
       "Spectre                                                    0.000000   \n",
       "The Dark Knight Rises                                      0.052414   \n",
       "John Carter                                                0.000000   \n",
       "\n",
       "                                          Shanghai Calling  My Date with Drew  \n",
       "Avatar                                                 0.0                0.0  \n",
       "Pirates of the Caribbean: At World's End               0.0                0.0  \n",
       "Spectre                                                0.0                0.0  \n",
       "The Dark Knight Rises                                  0.0                0.0  \n",
       "John Carter                                            0.0                0.0  \n",
       "\n",
       "[5 rows x 4803 columns]"
      ]
     },
     "execution_count": 45,
     "metadata": {},
     "output_type": "execute_result"
    }
   ],
   "source": [
    "cosine_df = pd.DataFrame(cosine_score, columns = df.original_title.values.tolist())\n",
    "cosine_df.index = df.original_title.values.tolist()\n",
    "cosine_df.head()"
   ]
  },
  {
   "cell_type": "markdown",
   "metadata": {},
   "source": [
    "### Make Recommendations\n",
    "\n",
    "Using the results from cosine similarity and our recommend_movie function, we can see what recommendations we get for \"The Empire Strikes Back\" this time."
   ]
  },
  {
   "cell_type": "code",
   "execution_count": 46,
   "metadata": {},
   "outputs": [],
   "source": [
    "def recommend_movie(movie):\n",
    "    # get the index of the movie\n",
    "    index = movie_index[movie]\n",
    "    # convert into a list of movie index and similarity values\n",
    "    similarity = list(enumerate(cosine_score[index]))\n",
    "    # sort list by the similarity value\n",
    "    similarity = sorted(similarity, key = lambda x: x[1], reverse = True)\n",
    "    # Get the top 10 most similar movies. Exclude the first value because it is itself.\n",
    "    similarity = similarity[1:11]\n",
    "    recommended_index = [i[0] for i in similarity] \n",
    "    recommended_title = [movie_titles[i] for i in recommended_index]\n",
    "    recommended_score = [i[1] for i in similarity]\n",
    "    return pd.DataFrame({'Recommended_Movie': recommended_title,\n",
    "                         'Score': recommended_score})"
   ]
  },
  {
   "cell_type": "code",
   "execution_count": 47,
   "metadata": {},
   "outputs": [
    {
     "data": {
      "text/html": [
       "<div>\n",
       "<style scoped>\n",
       "    .dataframe tbody tr th:only-of-type {\n",
       "        vertical-align: middle;\n",
       "    }\n",
       "\n",
       "    .dataframe tbody tr th {\n",
       "        vertical-align: top;\n",
       "    }\n",
       "\n",
       "    .dataframe thead th {\n",
       "        text-align: right;\n",
       "    }\n",
       "</style>\n",
       "<table border=\"1\" class=\"dataframe\">\n",
       "  <thead>\n",
       "    <tr style=\"text-align: right;\">\n",
       "      <th></th>\n",
       "      <th>Recommended_Movie</th>\n",
       "      <th>Score</th>\n",
       "    </tr>\n",
       "  </thead>\n",
       "  <tbody>\n",
       "    <tr>\n",
       "      <th>0</th>\n",
       "      <td>Star Wars</td>\n",
       "      <td>0.619048</td>\n",
       "    </tr>\n",
       "    <tr>\n",
       "      <th>1</th>\n",
       "      <td>Return of the Jedi</td>\n",
       "      <td>0.600099</td>\n",
       "    </tr>\n",
       "    <tr>\n",
       "      <th>2</th>\n",
       "      <td>Starship Troopers</td>\n",
       "      <td>0.292770</td>\n",
       "    </tr>\n",
       "    <tr>\n",
       "      <th>3</th>\n",
       "      <td>Star Trek II: The Wrath of Khan</td>\n",
       "      <td>0.281718</td>\n",
       "    </tr>\n",
       "    <tr>\n",
       "      <th>4</th>\n",
       "      <td>Star Trek Beyond</td>\n",
       "      <td>0.263181</td>\n",
       "    </tr>\n",
       "    <tr>\n",
       "      <th>5</th>\n",
       "      <td>Star Wars: Clone Wars (Volume 1)</td>\n",
       "      <td>0.263181</td>\n",
       "    </tr>\n",
       "    <tr>\n",
       "      <th>6</th>\n",
       "      <td>Star Trek: Insurrection</td>\n",
       "      <td>0.251976</td>\n",
       "    </tr>\n",
       "    <tr>\n",
       "      <th>7</th>\n",
       "      <td>The Helix... Loaded</td>\n",
       "      <td>0.251976</td>\n",
       "    </tr>\n",
       "    <tr>\n",
       "      <th>8</th>\n",
       "      <td>Star Wars: Episode II - Attack of the Clones</td>\n",
       "      <td>0.250313</td>\n",
       "    </tr>\n",
       "    <tr>\n",
       "      <th>9</th>\n",
       "      <td>Star Trek: Nemesis</td>\n",
       "      <td>0.238095</td>\n",
       "    </tr>\n",
       "  </tbody>\n",
       "</table>\n",
       "</div>"
      ],
      "text/plain": [
       "                              Recommended_Movie     Score\n",
       "0                                     Star Wars  0.619048\n",
       "1                            Return of the Jedi  0.600099\n",
       "2                             Starship Troopers  0.292770\n",
       "3               Star Trek II: The Wrath of Khan  0.281718\n",
       "4                              Star Trek Beyond  0.263181\n",
       "5              Star Wars: Clone Wars (Volume 1)  0.263181\n",
       "6                       Star Trek: Insurrection  0.251976\n",
       "7                           The Helix... Loaded  0.251976\n",
       "8  Star Wars: Episode II - Attack of the Clones  0.250313\n",
       "9                            Star Trek: Nemesis  0.238095"
      ]
     },
     "execution_count": 47,
     "metadata": {},
     "output_type": "execute_result"
    }
   ],
   "source": [
    "recommend_movie('The Empire Strikes Back')"
   ]
  },
  {
   "cell_type": "markdown",
   "metadata": {},
   "source": [
    "We can see that the recommendations made this time aren't all Star Wars movies which is good! Star Wars movies are great, but isn't it even greater to discover new movies that are similar? Now you can watch Star Wars, Star Trek, and Starship Troopers!"
   ]
  }
 ],
 "metadata": {
  "kernelspec": {
   "display_name": "Python 3",
   "language": "python",
   "name": "python3"
  },
  "language_info": {
   "codemirror_mode": {
    "name": "ipython",
    "version": 3
   },
   "file_extension": ".py",
   "mimetype": "text/x-python",
   "name": "python",
   "nbconvert_exporter": "python",
   "pygments_lexer": "ipython3",
   "version": "3.7.6"
  }
 },
 "nbformat": 4,
 "nbformat_minor": 4
}
