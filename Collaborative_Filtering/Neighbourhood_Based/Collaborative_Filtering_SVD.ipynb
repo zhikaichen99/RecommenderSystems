{
 "cells": [
  {
   "cell_type": "markdown",
   "metadata": {},
   "source": [
    "# Single Value Decomposition in Collaborative Filtering"
   ]
  },
  {
   "cell_type": "markdown",
   "metadata": {},
   "source": [
    "## Matrix Factorization\n",
    "\n",
    "Matrix Factorization methods are used to reduce the dimensionality of the matrix. This is especially helpful if we are dealing with a very sparse matrix such as our User-Item Rating Matrix. Using Matrix Factorization we are able to represent our User-Item Rating Matrix as a low-rank matrix. \n",
    "\n",
    "Once this reduced dimensional user-rating matrix is computed, we can use this reduced representation to calculate similarities. The calculations are more robust because all the values are filled in this matrix. The calculations are also more efficient because of the lower dimensionality\n"
   ]
  },
  {
   "cell_type": "markdown",
   "metadata": {},
   "source": [
    "## Singular Value Decomposition\n",
    "\n",
    "Singular value decomposition (SVD) can be used in collaborative filtering to reduce the dimensionality of a user-item matrix and to extract the latent factors that underlie the ratings provided by users.\n",
    "\n",
    "The first step to SVD is to fill in the incomplete User-Rating Matrix R. We will denote this resulting matrix as $R_f$. To avoid introducing bias, we will performing mean-centering on the User-Rating Matrix and fill in the missing values with 0. A value of 0 would be the average rating after mean-centering.\n",
    "\n",
    "SVD can be used to decompose this user-item matrix into three matrices: a matrix of left singular vectors, a diagonal matrix of singular values, and a matrix of right singular vectors. These matrices capture the structure of the original matrix in a way that makes it easier to analyze and manipulate.\n",
    " \n",
    "$$R_f = Q\\Sigma P^T$$\n",
    "\n",
    "where:\n",
    "\n",
    "* Q: m x m matrix where the columns are the m orthonormal eigenvectors of $R_fR_{f}^T$\n",
    "* P: n x n matrix where the columns are the n orthonormal eigenvectors of \n",
    "$R_{f}^TR_f$\n",
    "* $\\Sigma$: m x n diagonal matrix where the diagonal entries are non-zero and they contain the square-root of the nonzero eigenvalues of $R_fR_{f}^T$\n",
    "\n",
    "In particular, the left singular vectors and right singular vectors can be used to reduce the dimensionality of the original matrix. This can be useful in collaborative filtering because it can help to alleviate the \"curse of dimensionality,\" which is a problem that arises when working with high-dimensional data.\n",
    "\n",
    "The singular values in the diagonal matrix can also be used to identify the latent factors that underlie the ratings provided by users. These factors can provide insight into the preferences and interests of the users, which can be used to make more accurate and personalized recommendations.\n"
   ]
  },
  {
   "cell_type": "markdown",
   "metadata": {},
   "source": [
    "Overall, SVD is a valuable tool in collaborative filtering because it can help to simplify the user-item matrix and extract the underlying factors that drive users' ratings. This can improve the accuracy and relevance of recommendations made by collaborative filtering systems."
   ]
  },
  {
   "cell_type": "code",
   "execution_count": null,
   "metadata": {},
   "outputs": [],
   "source": []
  }
 ],
 "metadata": {
  "kernelspec": {
   "display_name": "Python 3",
   "language": "python",
   "name": "python3"
  },
  "language_info": {
   "codemirror_mode": {
    "name": "ipython",
    "version": 3
   },
   "file_extension": ".py",
   "mimetype": "text/x-python",
   "name": "python",
   "nbconvert_exporter": "python",
   "pygments_lexer": "ipython3",
   "version": "3.7.6"
  }
 },
 "nbformat": 4,
 "nbformat_minor": 4
}
