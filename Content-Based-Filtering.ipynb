{
 "cells": [
  {
   "cell_type": "markdown",
   "metadata": {},
   "source": [
    "# Content-Based-Filtering"
   ]
  },
  {
   "cell_type": "code",
   "execution_count": 198,
   "metadata": {},
   "outputs": [],
   "source": [
    "import pandas as pd\n",
    "import numpy as np\n",
    "import sklearn\n",
    "import math\n",
    "import scipy\n",
    "import matplotlib.pyplot as plt\n",
    "\n",
    "from ast import literal_eval\n",
    "from nltk.corpus import stopwords\n",
    "from sklearn.feature_extraction.text import TfidfVectorizer\n",
    "from sklearn.metrics.pairwise import cosine_similarity\n",
    "from sklearn.preprocessing import MinMaxScaler"
   ]
  },
  {
   "cell_type": "markdown",
   "metadata": {},
   "source": [
    "## TMDB Movie Data"
   ]
  },
  {
   "cell_type": "code",
   "execution_count": 199,
   "metadata": {},
   "outputs": [],
   "source": [
    "credits = pd.read_csv('datasets/tmdb_5000_movie_dataset/tmdb_5000_credits.csv')\n",
    "movies = pd.read_csv('datasets/tmdb_5000_movie_dataset/tmdb_5000_movies.csv')"
   ]
  },
  {
   "cell_type": "code",
   "execution_count": 200,
   "metadata": {},
   "outputs": [
    {
     "data": {
      "text/html": [
       "<div>\n",
       "<style scoped>\n",
       "    .dataframe tbody tr th:only-of-type {\n",
       "        vertical-align: middle;\n",
       "    }\n",
       "\n",
       "    .dataframe tbody tr th {\n",
       "        vertical-align: top;\n",
       "    }\n",
       "\n",
       "    .dataframe thead th {\n",
       "        text-align: right;\n",
       "    }\n",
       "</style>\n",
       "<table border=\"1\" class=\"dataframe\">\n",
       "  <thead>\n",
       "    <tr style=\"text-align: right;\">\n",
       "      <th></th>\n",
       "      <th>movie_id</th>\n",
       "      <th>title</th>\n",
       "      <th>cast</th>\n",
       "      <th>crew</th>\n",
       "    </tr>\n",
       "  </thead>\n",
       "  <tbody>\n",
       "    <tr>\n",
       "      <th>2291</th>\n",
       "      <td>62630</td>\n",
       "      <td>The Devil's Double</td>\n",
       "      <td>[{\"cast_id\": 6, \"character\": \"Latif Yahia / Ud...</td>\n",
       "      <td>[{\"credit_id\": \"52fe4685c3a368484e095479\", \"de...</td>\n",
       "    </tr>\n",
       "  </tbody>\n",
       "</table>\n",
       "</div>"
      ],
      "text/plain": [
       "      movie_id               title  \\\n",
       "2291     62630  The Devil's Double   \n",
       "\n",
       "                                                   cast  \\\n",
       "2291  [{\"cast_id\": 6, \"character\": \"Latif Yahia / Ud...   \n",
       "\n",
       "                                                   crew  \n",
       "2291  [{\"credit_id\": \"52fe4685c3a368484e095479\", \"de...  "
      ]
     },
     "execution_count": 200,
     "metadata": {},
     "output_type": "execute_result"
    }
   ],
   "source": [
    "credits.sample(1)"
   ]
  },
  {
   "cell_type": "code",
   "execution_count": 201,
   "metadata": {},
   "outputs": [
    {
     "data": {
      "text/html": [
       "<div>\n",
       "<style scoped>\n",
       "    .dataframe tbody tr th:only-of-type {\n",
       "        vertical-align: middle;\n",
       "    }\n",
       "\n",
       "    .dataframe tbody tr th {\n",
       "        vertical-align: top;\n",
       "    }\n",
       "\n",
       "    .dataframe thead th {\n",
       "        text-align: right;\n",
       "    }\n",
       "</style>\n",
       "<table border=\"1\" class=\"dataframe\">\n",
       "  <thead>\n",
       "    <tr style=\"text-align: right;\">\n",
       "      <th></th>\n",
       "      <th>budget</th>\n",
       "      <th>genres</th>\n",
       "      <th>homepage</th>\n",
       "      <th>id</th>\n",
       "      <th>keywords</th>\n",
       "      <th>original_language</th>\n",
       "      <th>original_title</th>\n",
       "      <th>overview</th>\n",
       "      <th>popularity</th>\n",
       "      <th>production_companies</th>\n",
       "      <th>production_countries</th>\n",
       "      <th>release_date</th>\n",
       "      <th>revenue</th>\n",
       "      <th>runtime</th>\n",
       "      <th>spoken_languages</th>\n",
       "      <th>status</th>\n",
       "      <th>tagline</th>\n",
       "      <th>title</th>\n",
       "      <th>vote_average</th>\n",
       "      <th>vote_count</th>\n",
       "    </tr>\n",
       "  </thead>\n",
       "  <tbody>\n",
       "    <tr>\n",
       "      <th>2522</th>\n",
       "      <td>14000000</td>\n",
       "      <td>[{\"id\": 36, \"name\": \"History\"}, {\"id\": 18, \"na...</td>\n",
       "      <td>http://theimitationgamemovie.com/</td>\n",
       "      <td>205596</td>\n",
       "      <td>[{\"id\": 237, \"name\": \"gay\"}, {\"id\": 392, \"name...</td>\n",
       "      <td>en</td>\n",
       "      <td>The Imitation Game</td>\n",
       "      <td>Based on the real life story of legendary cryp...</td>\n",
       "      <td>145.364591</td>\n",
       "      <td>[{\"name\": \"Black Bear Pictures\", \"id\": 22146},...</td>\n",
       "      <td>[{\"iso_3166_1\": \"GB\", \"name\": \"United Kingdom\"}]</td>\n",
       "      <td>2014-11-14</td>\n",
       "      <td>233555708</td>\n",
       "      <td>113.0</td>\n",
       "      <td>[{\"iso_639_1\": \"en\", \"name\": \"English\"}]</td>\n",
       "      <td>Released</td>\n",
       "      <td>The true enigma was the man who cracked the code.</td>\n",
       "      <td>The Imitation Game</td>\n",
       "      <td>8.0</td>\n",
       "      <td>5723</td>\n",
       "    </tr>\n",
       "  </tbody>\n",
       "</table>\n",
       "</div>"
      ],
      "text/plain": [
       "        budget                                             genres  \\\n",
       "2522  14000000  [{\"id\": 36, \"name\": \"History\"}, {\"id\": 18, \"na...   \n",
       "\n",
       "                               homepage      id  \\\n",
       "2522  http://theimitationgamemovie.com/  205596   \n",
       "\n",
       "                                               keywords original_language  \\\n",
       "2522  [{\"id\": 237, \"name\": \"gay\"}, {\"id\": 392, \"name...                en   \n",
       "\n",
       "          original_title                                           overview  \\\n",
       "2522  The Imitation Game  Based on the real life story of legendary cryp...   \n",
       "\n",
       "      popularity                               production_companies  \\\n",
       "2522  145.364591  [{\"name\": \"Black Bear Pictures\", \"id\": 22146},...   \n",
       "\n",
       "                                  production_countries release_date  \\\n",
       "2522  [{\"iso_3166_1\": \"GB\", \"name\": \"United Kingdom\"}]   2014-11-14   \n",
       "\n",
       "        revenue  runtime                          spoken_languages    status  \\\n",
       "2522  233555708    113.0  [{\"iso_639_1\": \"en\", \"name\": \"English\"}]  Released   \n",
       "\n",
       "                                                tagline               title  \\\n",
       "2522  The true enigma was the man who cracked the code.  The Imitation Game   \n",
       "\n",
       "      vote_average  vote_count  \n",
       "2522           8.0        5723  "
      ]
     },
     "execution_count": 201,
     "metadata": {},
     "output_type": "execute_result"
    }
   ],
   "source": [
    "movies.sample(1)"
   ]
  },
  {
   "cell_type": "code",
   "execution_count": 202,
   "metadata": {},
   "outputs": [
    {
     "data": {
      "text/plain": [
       "Index(['budget', 'genres', 'homepage', 'id', 'keywords', 'original_language',\n",
       "       'original_title', 'overview', 'popularity', 'production_companies',\n",
       "       'production_countries', 'release_date', 'revenue', 'runtime',\n",
       "       'spoken_languages', 'status', 'tagline', 'title', 'vote_average',\n",
       "       'vote_count'],\n",
       "      dtype='object')"
      ]
     },
     "execution_count": 202,
     "metadata": {},
     "output_type": "execute_result"
    }
   ],
   "source": [
    "movies.columns"
   ]
  },
  {
   "cell_type": "markdown",
   "metadata": {},
   "source": [
    "## Data Exploration"
   ]
  },
  {
   "cell_type": "code",
   "execution_count": 203,
   "metadata": {},
   "outputs": [],
   "source": [
    "# Rename column movie_id to id and then merging the two dataframe together on id\n",
    "credits = credits.rename({'movie_id': 'id'}, axis = 1)\n",
    "df = movies.merge(credits, on = 'id')"
   ]
  },
  {
   "cell_type": "code",
   "execution_count": 204,
   "metadata": {},
   "outputs": [],
   "source": [
    "df = df.drop_duplicates()"
   ]
  },
  {
   "cell_type": "code",
   "execution_count": 205,
   "metadata": {},
   "outputs": [
    {
     "data": {
      "text/plain": [
       "(4803, 23)"
      ]
     },
     "execution_count": 205,
     "metadata": {},
     "output_type": "execute_result"
    }
   ],
   "source": [
    "df.shape"
   ]
  },
  {
   "cell_type": "code",
   "execution_count": 206,
   "metadata": {},
   "outputs": [
    {
     "data": {
      "text/plain": [
       "budget                     0\n",
       "genres                     0\n",
       "homepage                3091\n",
       "id                         0\n",
       "keywords                   0\n",
       "original_language          0\n",
       "original_title             0\n",
       "overview                   3\n",
       "popularity                 0\n",
       "production_companies       0\n",
       "production_countries       0\n",
       "release_date               1\n",
       "revenue                    0\n",
       "runtime                    2\n",
       "spoken_languages           0\n",
       "status                     0\n",
       "tagline                  844\n",
       "title_x                    0\n",
       "vote_average               0\n",
       "vote_count                 0\n",
       "title_y                    0\n",
       "cast                       0\n",
       "crew                       0\n",
       "dtype: int64"
      ]
     },
     "execution_count": 206,
     "metadata": {},
     "output_type": "execute_result"
    }
   ],
   "source": [
    "df.isnull().sum()"
   ]
  },
  {
   "cell_type": "markdown",
   "metadata": {},
   "source": [
    "There are a lot of null values for the columns *homepage* and *tagline*. Fortunately those columns are not very important in terms of the metadata for the movies because *homepage* is just link to the movie and *tagline* is a catchphrase for a movie. Instead of *tagline* it will be much more useful to use the overview of the movies to see if movies are similar or not"
   ]
  },
  {
   "cell_type": "code",
   "execution_count": 207,
   "metadata": {},
   "outputs": [
    {
     "data": {
      "text/plain": [
       "budget                    int64\n",
       "genres                   object\n",
       "homepage                 object\n",
       "id                        int64\n",
       "keywords                 object\n",
       "original_language        object\n",
       "original_title           object\n",
       "overview                 object\n",
       "popularity              float64\n",
       "production_companies     object\n",
       "production_countries     object\n",
       "release_date             object\n",
       "revenue                   int64\n",
       "runtime                 float64\n",
       "spoken_languages         object\n",
       "status                   object\n",
       "tagline                  object\n",
       "title_x                  object\n",
       "vote_average            float64\n",
       "vote_count                int64\n",
       "title_y                  object\n",
       "cast                     object\n",
       "crew                     object\n",
       "dtype: object"
      ]
     },
     "execution_count": 207,
     "metadata": {},
     "output_type": "execute_result"
    }
   ],
   "source": [
    "df.dtypes"
   ]
  },
  {
   "cell_type": "code",
   "execution_count": 208,
   "metadata": {},
   "outputs": [
    {
     "name": "stdout",
     "output_type": "stream",
     "text": [
      "Earliest Release Date in dataset: 1916-09-04 00:00:00\n",
      "Latest Release Date in dataset: 2017-02-03 00:00:00\n"
     ]
    }
   ],
   "source": [
    "# Get Earlies and Latest Release Dates\n",
    "df['release_date'] = pd.to_datetime(df['release_date'])\n",
    "print(\"Earliest Release Date in dataset: \" + str(min(df.release_date)))\n",
    "print(\"Latest Release Date in dataset: \" + str(max(df.release_date)))"
   ]
  },
  {
   "cell_type": "code",
   "execution_count": 209,
   "metadata": {},
   "outputs": [
    {
     "data": {
      "text/plain": [
       "Text(0, 0.5, 'frequency')"
      ]
     },
     "execution_count": 209,
     "metadata": {},
     "output_type": "execute_result"
    },
    {
     "data": {
      "image/png": "[encoded data removed]",
      "text/plain": [
       "<Figure size 864x216 with 1 Axes>"
      ]
     },
     "metadata": {
      "needs_background": "light"
     },
     "output_type": "display_data"
    }
   ],
   "source": [
    "# Distribution of release years \n",
    "fig = plt.figure(figsize = (12,3))\n",
    "plt.hist(df.release_date.dt.year)\n",
    "plt.title('release_date (year) distribution')\n",
    "plt.xlabel('release_date (year)')\n",
    "plt.ylabel('frequency')"
   ]
  },
  {
   "cell_type": "code",
   "execution_count": 210,
   "metadata": {},
   "outputs": [
    {
     "data": {
      "image/png": "[encoded data removed]",
      "text/plain": [
       "<Figure size 720x720 with 6 Axes>"
      ]
     },
     "metadata": {
      "needs_background": "light"
     },
     "output_type": "display_data"
    }
   ],
   "source": [
    "continuous_features = ['budget', 'popularity', 'revenue', 'runtime',\n",
    "                      'vote_average', 'vote_count']\n",
    "\n",
    "fig, axes = plt.subplots(nrows = 3, ncols = 2, figsize = [10 ,10])\n",
    "fig.tight_layout(pad = 5.0)\n",
    "axes = axes.flatten()\n",
    "position = 0\n",
    "for feature in continuous_features:\n",
    "    axes[position].hist(df[feature])\n",
    "    axes[position].set_title(feature + \" distribution\")\n",
    "    axes[position].set_xlabel(feature)\n",
    "    axes[position].set_ylabel(\"Frequency\")\n",
    "    position = position + 1"
   ]
  },
  {
   "cell_type": "markdown",
   "metadata": {},
   "source": [
    "## Simple Recommender"
   ]
  },
  {
   "cell_type": "markdown",
   "metadata": {},
   "source": [
    "The simplest recommender system we can build is one that doesn't even use the metadata of the movie; recommends movies based off top-rated or popularity. This is a simple approach to recommending as movies that are popular or more highly rated will have a higher probability of being liked by the average audience."
   ]
  },
  {
   "cell_type": "markdown",
   "metadata": {},
   "source": [
    "### Recommendations Using Rating"
   ]
  },
  {
   "cell_type": "markdown",
   "metadata": {},
   "source": [
    "#### Weighted Rating"
   ]
  },
  {
   "cell_type": "markdown",
   "metadata": {},
   "source": [
    "From our data we have a *vote_average* feature. The *vote_average* feature is just the average rating given for that movie. This feature is a little deceiving. Just because a movie has a higher *vote_average* score than another, it does not necessarily mean it is better. This is because we need to take into the consideration the number of votes a movie has received. A movie with a *vote_average* of 8 and *vote_count* of 10 is not necessarily a better movie than one that has a *vote_average* of 7.5, but 1000 votes.\n",
    "\n",
    "**IMDB** uses a weighted rating for their movies. The formula for the weighted rating is:\n",
    "\n",
    "$$WR = (\\frac{v}{v + m})R + (\\frac{m}{v + m})C$$\n",
    "\n",
    "* R - average rating for the movie (the *vote_average* column)\n",
    "* v - number of votes for the movie (the *vote_count* column)\n",
    "* m - minimum votes required to be listed (need to calculate this)\n",
    "* C - average vote across entire data (need to calculate this)"
   ]
  },
  {
   "cell_type": "code",
   "execution_count": 225,
   "metadata": {},
   "outputs": [
    {
     "name": "stdout",
     "output_type": "stream",
     "text": [
      "(1203, 15)\n"
     ]
    }
   ],
   "source": [
    "c = df['vote_average'].mean()\n",
    "m = df['vote_count'].quantile(0.75)\n",
    "df = df.loc[df['vote_count'] >= m]\n",
    "print(df.shape)"
   ]
  },
  {
   "cell_type": "code",
   "execution_count": 234,
   "metadata": {},
   "outputs": [],
   "source": [
    "def weighted_rating(movie, m=m, c=c):\n",
    "    R = movie['vote_average']\n",
    "    v = movie['vote_count']\n",
    "    \n",
    "    weighted_rate = (v/(v+m)*R) + (m/(m+v)*c)\n",
    "    return weighted_rate\n",
    "    \n",
    "df['weighted_rating'] = df.apply(weighted_rating, axis = 1)"
   ]
  },
  {
   "cell_type": "code",
   "execution_count": 237,
   "metadata": {},
   "outputs": [
    {
     "data": {
      "text/html": [
       "<div>\n",
       "<style scoped>\n",
       "    .dataframe tbody tr th:only-of-type {\n",
       "        vertical-align: middle;\n",
       "    }\n",
       "\n",
       "    .dataframe tbody tr th {\n",
       "        vertical-align: top;\n",
       "    }\n",
       "\n",
       "    .dataframe thead th {\n",
       "        text-align: right;\n",
       "    }\n",
       "</style>\n",
       "<table border=\"1\" class=\"dataframe\">\n",
       "  <thead>\n",
       "    <tr style=\"text-align: right;\">\n",
       "      <th></th>\n",
       "      <th>original_title</th>\n",
       "      <th>weighted_rating</th>\n",
       "    </tr>\n",
       "  </thead>\n",
       "  <tbody>\n",
       "    <tr>\n",
       "      <th>1881</th>\n",
       "      <td>The Shawshank Redemption</td>\n",
       "      <td>8.301547</td>\n",
       "    </tr>\n",
       "    <tr>\n",
       "      <th>3337</th>\n",
       "      <td>The Godfather</td>\n",
       "      <td>8.143459</td>\n",
       "    </tr>\n",
       "    <tr>\n",
       "      <th>662</th>\n",
       "      <td>Fight Club</td>\n",
       "      <td>8.139688</td>\n",
       "    </tr>\n",
       "    <tr>\n",
       "      <th>3232</th>\n",
       "      <td>Pulp Fiction</td>\n",
       "      <td>8.122458</td>\n",
       "    </tr>\n",
       "    <tr>\n",
       "      <th>65</th>\n",
       "      <td>The Dark Knight</td>\n",
       "      <td>8.078054</td>\n",
       "    </tr>\n",
       "    <tr>\n",
       "      <th>...</th>\n",
       "      <td>...</td>\n",
       "      <td>...</td>\n",
       "    </tr>\n",
       "    <tr>\n",
       "      <th>91</th>\n",
       "      <td>Independence Day: Resurgence</td>\n",
       "      <td>5.172190</td>\n",
       "    </tr>\n",
       "    <tr>\n",
       "      <th>303</th>\n",
       "      <td>Catwoman</td>\n",
       "      <td>5.102609</td>\n",
       "    </tr>\n",
       "    <tr>\n",
       "      <th>3746</th>\n",
       "      <td>The Boy Next Door</td>\n",
       "      <td>4.934696</td>\n",
       "    </tr>\n",
       "    <tr>\n",
       "      <th>210</th>\n",
       "      <td>Batman &amp; Robin</td>\n",
       "      <td>4.847114</td>\n",
       "    </tr>\n",
       "    <tr>\n",
       "      <th>242</th>\n",
       "      <td>Fantastic Four</td>\n",
       "      <td>4.813642</td>\n",
       "    </tr>\n",
       "  </tbody>\n",
       "</table>\n",
       "<p>1203 rows × 2 columns</p>\n",
       "</div>"
      ],
      "text/plain": [
       "                    original_title  weighted_rating\n",
       "1881      The Shawshank Redemption         8.301547\n",
       "3337                 The Godfather         8.143459\n",
       "662                     Fight Club         8.139688\n",
       "3232                  Pulp Fiction         8.122458\n",
       "65                 The Dark Knight         8.078054\n",
       "...                            ...              ...\n",
       "91    Independence Day: Resurgence         5.172190\n",
       "303                       Catwoman         5.102609\n",
       "3746             The Boy Next Door         4.934696\n",
       "210                 Batman & Robin         4.847114\n",
       "242                 Fantastic Four         4.813642\n",
       "\n",
       "[1203 rows x 2 columns]"
      ]
     },
     "execution_count": 237,
     "metadata": {},
     "output_type": "execute_result"
    }
   ],
   "source": [
    "df.sort_values('weighted_rating', ascending = False)[['original_title', 'weighted_rating']]"
   ]
  },
  {
   "cell_type": "markdown",
   "metadata": {},
   "source": [
    "This is a really simple recommender system. It is recommending based on what are the best movies."
   ]
  },
  {
   "cell_type": "markdown",
   "metadata": {},
   "source": [
    "### Recommendations Using Popularity"
   ]
  },
  {
   "cell_type": "markdown",
   "metadata": {},
   "source": [
    "#### Popularity"
   ]
  },
  {
   "cell_type": "markdown",
   "metadata": {},
   "source": [
    "## Content-Based Filtering"
   ]
  },
  {
   "cell_type": "markdown",
   "metadata": {},
   "source": [
    "### Recommendations Using the Overview"
   ]
  },
  {
   "cell_type": "markdown",
   "metadata": {},
   "source": [
    "#### Term Frequency - Inverse Document Frequency (TF-IDF) On Movie Overview"
   ]
  },
  {
   "cell_type": "markdown",
   "metadata": {},
   "source": [
    "We can use the *overview* column to help make recommendations. If you enjoy a movie, it is very likely you will enjoy another one with similar plot or overview.\n",
    "\n",
    "How do we calculate the similarity between two plots? We need to convert the *overview* from a sequence of words into numbers which we can then use to calculate some sort of similarity score."
   ]
  },
  {
   "cell_type": "markdown",
   "metadata": {},
   "source": [
    "We will be using **TF-IDF** to convert the *overviews* into numbers. It calculates a score for each word in the corpus of words.\n",
    "\n",
    "* Term Frequency - is the number of occurences of a specific term in a document (overviews).\n",
    "* Document Frequency - is the number of documents (overviews) containing a specific word. This indicates how common the word is.\n",
    "* Inverse Document Frequency is the weight of the word. If the word appears often throughout the movie dataset, then it does not have much weight.\n",
    "\n",
    "$$w_{i,j} = tf_{i,j} x idf_i$$\n",
    "\n",
    "where:\n",
    "\n",
    "$$idf_i = log(\\frac{n}{df_i})$$"
   ]
  },
  {
   "cell_type": "code",
   "execution_count": 239,
   "metadata": {},
   "outputs": [],
   "source": [
    "# remove stopwords. Stopwords are common words that add no meaning to the text\n",
    "tfidf = TfidfVectorizer(stop_words = 'english')\n",
    "\n",
    "overview_matrix = tfidf.fit_transform(df['overview'])"
   ]
  },
  {
   "cell_type": "code",
   "execution_count": 242,
   "metadata": {},
   "outputs": [
    {
     "data": {
      "text/plain": [
       "(1203, 9610)"
      ]
     },
     "execution_count": 242,
     "metadata": {},
     "output_type": "execute_result"
    }
   ],
   "source": [
    "overview_matrix.shape"
   ]
  },
  {
   "cell_type": "markdown",
   "metadata": {},
   "source": [
    "The shape of the tfidf matrix tells us that 9610 unique words (after removing stopwords) were used to described the 1203 movies. "
   ]
  },
  {
   "cell_type": "markdown",
   "metadata": {},
   "source": [
    "### Recommendations Using Movies Features"
   ]
  },
  {
   "cell_type": "code",
   "execution_count": 211,
   "metadata": {},
   "outputs": [
    {
     "data": {
      "text/html": [
       "<div>\n",
       "<style scoped>\n",
       "    .dataframe tbody tr th:only-of-type {\n",
       "        vertical-align: middle;\n",
       "    }\n",
       "\n",
       "    .dataframe tbody tr th {\n",
       "        vertical-align: top;\n",
       "    }\n",
       "\n",
       "    .dataframe thead th {\n",
       "        text-align: right;\n",
       "    }\n",
       "</style>\n",
       "<table border=\"1\" class=\"dataframe\">\n",
       "  <thead>\n",
       "    <tr style=\"text-align: right;\">\n",
       "      <th></th>\n",
       "      <th>budget</th>\n",
       "      <th>genres</th>\n",
       "      <th>homepage</th>\n",
       "      <th>id</th>\n",
       "      <th>keywords</th>\n",
       "      <th>original_language</th>\n",
       "      <th>original_title</th>\n",
       "      <th>overview</th>\n",
       "      <th>popularity</th>\n",
       "      <th>production_companies</th>\n",
       "      <th>...</th>\n",
       "      <th>runtime</th>\n",
       "      <th>spoken_languages</th>\n",
       "      <th>status</th>\n",
       "      <th>tagline</th>\n",
       "      <th>title_x</th>\n",
       "      <th>vote_average</th>\n",
       "      <th>vote_count</th>\n",
       "      <th>title_y</th>\n",
       "      <th>cast</th>\n",
       "      <th>crew</th>\n",
       "    </tr>\n",
       "  </thead>\n",
       "  <tbody>\n",
       "    <tr>\n",
       "      <th>782</th>\n",
       "      <td>60000000</td>\n",
       "      <td>[{\"id\": 28, \"name\": \"Action\"}, {\"id\": 35, \"nam...</td>\n",
       "      <td>http://www.mycityscreams.com/</td>\n",
       "      <td>8285</td>\n",
       "      <td>[{\"id\": 1308, \"name\": \"secret identity\"}, {\"id...</td>\n",
       "      <td>en</td>\n",
       "      <td>The Spirit</td>\n",
       "      <td>Down these mean streets a man must come. A her...</td>\n",
       "      <td>14.84856</td>\n",
       "      <td>[{\"name\": \"DC Comics\", \"id\": 429}, {\"name\": \"L...</td>\n",
       "      <td>...</td>\n",
       "      <td>103.0</td>\n",
       "      <td>[{\"iso_639_1\": \"en\", \"name\": \"English\"}, {\"iso...</td>\n",
       "      <td>Released</td>\n",
       "      <td>I'm gonna kill you all kinds of dead.</td>\n",
       "      <td>The Spirit</td>\n",
       "      <td>4.7</td>\n",
       "      <td>320</td>\n",
       "      <td>The Spirit</td>\n",
       "      <td>[{\"cast_id\": 6, \"character\": \"The Spirit/Denny...</td>\n",
       "      <td>[{\"credit_id\": \"52fe449cc3a36847f809fee7\", \"de...</td>\n",
       "    </tr>\n",
       "  </tbody>\n",
       "</table>\n",
       "<p>1 rows × 23 columns</p>\n",
       "</div>"
      ],
      "text/plain": [
       "       budget                                             genres  \\\n",
       "782  60000000  [{\"id\": 28, \"name\": \"Action\"}, {\"id\": 35, \"nam...   \n",
       "\n",
       "                          homepage    id  \\\n",
       "782  http://www.mycityscreams.com/  8285   \n",
       "\n",
       "                                              keywords original_language  \\\n",
       "782  [{\"id\": 1308, \"name\": \"secret identity\"}, {\"id...                en   \n",
       "\n",
       "    original_title                                           overview  \\\n",
       "782     The Spirit  Down these mean streets a man must come. A her...   \n",
       "\n",
       "     popularity                               production_companies  ...  \\\n",
       "782    14.84856  [{\"name\": \"DC Comics\", \"id\": 429}, {\"name\": \"L...  ...   \n",
       "\n",
       "    runtime                                   spoken_languages    status  \\\n",
       "782   103.0  [{\"iso_639_1\": \"en\", \"name\": \"English\"}, {\"iso...  Released   \n",
       "\n",
       "                                   tagline     title_x vote_average  \\\n",
       "782  I'm gonna kill you all kinds of dead.  The Spirit          4.7   \n",
       "\n",
       "    vote_count     title_y                                               cast  \\\n",
       "782        320  The Spirit  [{\"cast_id\": 6, \"character\": \"The Spirit/Denny...   \n",
       "\n",
       "                                                  crew  \n",
       "782  [{\"credit_id\": \"52fe449cc3a36847f809fee7\", \"de...  \n",
       "\n",
       "[1 rows x 23 columns]"
      ]
     },
     "execution_count": 211,
     "metadata": {},
     "output_type": "execute_result"
    }
   ],
   "source": [
    "df.sample(1)"
   ]
  },
  {
   "cell_type": "code",
   "execution_count": 212,
   "metadata": {},
   "outputs": [
    {
     "data": {
      "text/plain": [
       "budget                                                          237000000\n",
       "genres                  [{\"id\": 28, \"name\": \"Action\"}, {\"id\": 12, \"nam...\n",
       "homepage                                      http://www.avatarmovie.com/\n",
       "id                                                                  19995\n",
       "keywords                [{\"id\": 1463, \"name\": \"culture clash\"}, {\"id\":...\n",
       "original_language                                                      en\n",
       "original_title                                                     Avatar\n",
       "overview                In the 22nd century, a paraplegic Marine is di...\n",
       "popularity                                                     150.437577\n",
       "production_companies    [{\"name\": \"Ingenious Film Partners\", \"id\": 289...\n",
       "production_countries    [{\"iso_3166_1\": \"US\", \"name\": \"United States o...\n",
       "release_date                                          2009-12-10 00:00:00\n",
       "revenue                                                        2787965087\n",
       "runtime                                                             162.0\n",
       "spoken_languages        [{\"iso_639_1\": \"en\", \"name\": \"English\"}, {\"iso...\n",
       "status                                                           Released\n",
       "tagline                                       Enter the World of Pandora.\n",
       "title_x                                                            Avatar\n",
       "vote_average                                                          7.2\n",
       "vote_count                                                          11800\n",
       "title_y                                                            Avatar\n",
       "cast                    [{\"cast_id\": 242, \"character\": \"Jake Sully\", \"...\n",
       "crew                    [{\"credit_id\": \"52fe48009251416c750aca23\", \"de...\n",
       "Name: 0, dtype: object"
      ]
     },
     "execution_count": 212,
     "metadata": {},
     "output_type": "execute_result"
    }
   ],
   "source": [
    "df.iloc[0]"
   ]
  },
  {
   "cell_type": "markdown",
   "metadata": {},
   "source": [
    "The following columns in the dataset contain lists of dictionaries as their values: *genres, keywords, production_companies, production_countries, spoken_languages, cast, crew*. \n",
    "\n",
    "We will extract the important medadata from these dictionaries and have the values in a list. \n",
    "\n",
    "For example, for the genre column we want the final output to look like this: [action, comedy].\n",
    "\n",
    "We will define a couple of helper functions that will extract the necessary metadata for our dataset columns\n",
    "\n",
    "First lets take a look at the different dictionaries and which key value we need to extract"
   ]
  },
  {
   "cell_type": "code",
   "execution_count": 238,
   "metadata": {},
   "outputs": [],
   "source": [
    "dict_features = ['genres', 'keywords', 'production_companies', \n",
    "                'production_countries', 'spoken_languages',\n",
    "                'cast', 'crew']\n",
    "\n",
    "# for i in dict_features:\n",
    "#     print(\"========================== \"+ i + \" =========================\")\n",
    "#     print(df[i].iloc[0])"
   ]
  },
  {
   "cell_type": "markdown",
   "metadata": {},
   "source": [
    "* **genres** - name\n",
    "* **keywords** - name\n",
    "* **production_companies** - name\n",
    "* **production_countries** - name\n",
    "* **spoken_languages** - name\n",
    "* **cast** - name\n",
    "* **crew** - find \"job\": \"Director\" and get name value\n",
    "\n",
    "We can write a function that takes all the values from the *name* key. However, as we can see from the above output, there are a lot of values for some of the features such as *cast* and *crew*. We do not want to include all those features as we will have a super high-dimension matrix that will be very sparse aswell. \n",
    "\n",
    "For cast we can just take the top N values because usually the people with the most screentime are listed first on the cast lists.\n",
    "\n",
    "For crew we will just fetch the Director of the movie."
   ]
  },
  {
   "cell_type": "code",
   "execution_count": 214,
   "metadata": {},
   "outputs": [
    {
     "name": "stdout",
     "output_type": "stream",
     "text": [
      "[{\"id\": 28, \"name\": \"Action\"}, {\"id\": 12, \"name\": \"Adventure\"}, {\"id\": 14, \"name\": \"Fantasy\"}, {\"id\": 878, \"name\": \"Science Fiction\"}]\n",
      "\n",
      "[\n"
     ]
    }
   ],
   "source": [
    "print(df['genres'].iloc[0])\n",
    "print(\"\")\n",
    "print(df['genres'].iloc[0][0]) # First element of first movie genres dictionary"
   ]
  },
  {
   "cell_type": "code",
   "execution_count": 215,
   "metadata": {},
   "outputs": [
    {
     "name": "stdout",
     "output_type": "stream",
     "text": [
      "{'id': 28, 'name': 'Action'}\n"
     ]
    }
   ],
   "source": [
    "# Convert strings into actual list objects\n",
    "\n",
    "dict_features = ['genres', 'keywords', 'cast', \n",
    "                 'production_companies','crew']\n",
    "\n",
    "for feature in dict_features:\n",
    "    df[feature] = df[feature].apply(literal_eval)\n",
    "\n",
    "print(df['genres'].iloc[0][0])"
   ]
  },
  {
   "cell_type": "code",
   "execution_count": 216,
   "metadata": {},
   "outputs": [],
   "source": [
    "def get_director(crew_column):\n",
    "    for i in crew_column:\n",
    "        if i['job'] == 'Director':\n",
    "            meta_data = i['name']\n",
    "            return meta_data\n",
    "    return np.nan\n",
    "\n",
    "\n",
    "def extract_metadata(dict_column):\n",
    "    \n",
    "    if isinstance(dict_column, list):        \n",
    "        metadata = [i['name'] for i in dict_column]\n",
    "            \n",
    "        if len(metadata) > 3:\n",
    "            metadata = metadata[:3]\n",
    "        return metadata\n",
    "    return []"
   ]
  },
  {
   "cell_type": "code",
   "execution_count": 217,
   "metadata": {},
   "outputs": [],
   "source": [
    "df[dict_features[-1]] = df[dict_features[-1]].apply(get_director)\n",
    "\n",
    "for feature in dict_features[:4]:\n",
    "    df[feature] = df[feature].apply(extract_metadata)"
   ]
  },
  {
   "cell_type": "code",
   "execution_count": 218,
   "metadata": {},
   "outputs": [
    {
     "data": {
      "text/html": [
       "<div>\n",
       "<style scoped>\n",
       "    .dataframe tbody tr th:only-of-type {\n",
       "        vertical-align: middle;\n",
       "    }\n",
       "\n",
       "    .dataframe tbody tr th {\n",
       "        vertical-align: top;\n",
       "    }\n",
       "\n",
       "    .dataframe thead th {\n",
       "        text-align: right;\n",
       "    }\n",
       "</style>\n",
       "<table border=\"1\" class=\"dataframe\">\n",
       "  <thead>\n",
       "    <tr style=\"text-align: right;\">\n",
       "      <th></th>\n",
       "      <th>genres</th>\n",
       "      <th>keywords</th>\n",
       "      <th>cast</th>\n",
       "      <th>production_companies</th>\n",
       "      <th>crew</th>\n",
       "    </tr>\n",
       "  </thead>\n",
       "  <tbody>\n",
       "    <tr>\n",
       "      <th>0</th>\n",
       "      <td>[Action, Adventure, Fantasy]</td>\n",
       "      <td>[culture clash, future, space war]</td>\n",
       "      <td>[Sam Worthington, Zoe Saldana, Sigourney Weaver]</td>\n",
       "      <td>[Ingenious Film Partners, Twentieth Century Fo...</td>\n",
       "      <td>James Cameron</td>\n",
       "    </tr>\n",
       "    <tr>\n",
       "      <th>1</th>\n",
       "      <td>[Adventure, Fantasy, Action]</td>\n",
       "      <td>[ocean, drug abuse, exotic island]</td>\n",
       "      <td>[Johnny Depp, Orlando Bloom, Keira Knightley]</td>\n",
       "      <td>[Walt Disney Pictures, Jerry Bruckheimer Films...</td>\n",
       "      <td>Gore Verbinski</td>\n",
       "    </tr>\n",
       "    <tr>\n",
       "      <th>2</th>\n",
       "      <td>[Action, Adventure, Crime]</td>\n",
       "      <td>[spy, based on novel, secret agent]</td>\n",
       "      <td>[Daniel Craig, Christoph Waltz, Léa Seydoux]</td>\n",
       "      <td>[Columbia Pictures, Danjaq, B24]</td>\n",
       "      <td>Sam Mendes</td>\n",
       "    </tr>\n",
       "    <tr>\n",
       "      <th>3</th>\n",
       "      <td>[Action, Crime, Drama]</td>\n",
       "      <td>[dc comics, crime fighter, terrorist]</td>\n",
       "      <td>[Christian Bale, Michael Caine, Gary Oldman]</td>\n",
       "      <td>[Legendary Pictures, Warner Bros., DC Entertai...</td>\n",
       "      <td>Christopher Nolan</td>\n",
       "    </tr>\n",
       "    <tr>\n",
       "      <th>4</th>\n",
       "      <td>[Action, Adventure, Science Fiction]</td>\n",
       "      <td>[based on novel, mars, medallion]</td>\n",
       "      <td>[Taylor Kitsch, Lynn Collins, Samantha Morton]</td>\n",
       "      <td>[Walt Disney Pictures]</td>\n",
       "      <td>Andrew Stanton</td>\n",
       "    </tr>\n",
       "  </tbody>\n",
       "</table>\n",
       "</div>"
      ],
      "text/plain": [
       "                                 genres  \\\n",
       "0          [Action, Adventure, Fantasy]   \n",
       "1          [Adventure, Fantasy, Action]   \n",
       "2            [Action, Adventure, Crime]   \n",
       "3                [Action, Crime, Drama]   \n",
       "4  [Action, Adventure, Science Fiction]   \n",
       "\n",
       "                                keywords  \\\n",
       "0     [culture clash, future, space war]   \n",
       "1     [ocean, drug abuse, exotic island]   \n",
       "2    [spy, based on novel, secret agent]   \n",
       "3  [dc comics, crime fighter, terrorist]   \n",
       "4      [based on novel, mars, medallion]   \n",
       "\n",
       "                                               cast  \\\n",
       "0  [Sam Worthington, Zoe Saldana, Sigourney Weaver]   \n",
       "1     [Johnny Depp, Orlando Bloom, Keira Knightley]   \n",
       "2      [Daniel Craig, Christoph Waltz, Léa Seydoux]   \n",
       "3      [Christian Bale, Michael Caine, Gary Oldman]   \n",
       "4    [Taylor Kitsch, Lynn Collins, Samantha Morton]   \n",
       "\n",
       "                                production_companies               crew  \n",
       "0  [Ingenious Film Partners, Twentieth Century Fo...      James Cameron  \n",
       "1  [Walt Disney Pictures, Jerry Bruckheimer Films...     Gore Verbinski  \n",
       "2                   [Columbia Pictures, Danjaq, B24]         Sam Mendes  \n",
       "3  [Legendary Pictures, Warner Bros., DC Entertai...  Christopher Nolan  \n",
       "4                             [Walt Disney Pictures]     Andrew Stanton  "
      ]
     },
     "execution_count": 218,
     "metadata": {},
     "output_type": "execute_result"
    }
   ],
   "source": [
    "df[dict_features].head()"
   ]
  },
  {
   "cell_type": "code",
   "execution_count": null,
   "metadata": {},
   "outputs": [],
   "source": []
  }
 ],
 "metadata": {
  "kernelspec": {
   "display_name": "Python 3",
   "language": "python",
   "name": "python3"
  },
  "language_info": {
   "codemirror_mode": {
    "name": "ipython",
    "version": 3
   },
   "file_extension": ".py",
   "mimetype": "text/x-python",
   "name": "python",
   "nbconvert_exporter": "python",
   "pygments_lexer": "ipython3",
   "version": "3.7.6"
  }
 },
 "nbformat": 4,
 "nbformat_minor": 4
}
